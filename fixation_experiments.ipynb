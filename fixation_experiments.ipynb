{
 "cells": [
  {
   "cell_type": "code",
   "execution_count": 1,
   "id": "061efa12",
   "metadata": {},
   "outputs": [],
   "source": [
    "import numpy as np\n",
    "import matplotlib.pyplot as plt\n",
    "import matplotlib.cm as cm\n",
    "import matplotlib.animation as animation\n",
    "import matplotlib as mpl\n",
    "from timeit import default_timer as timer\n",
    "from tqdm import tqdm"
   ]
  },
  {
   "cell_type": "code",
   "execution_count": 2,
   "id": "0ad33af2",
   "metadata": {},
   "outputs": [],
   "source": [
    "def generate_model_oneofA(lx,ly,fb):\n",
    "    \"\"\"\n",
    "    generates the inital state of the model on the lattice:\n",
    "    lx,ly: is the size of the lattice in x and y direction\n",
    "    fa,fb: are the propabilities that variant a or variant b occupies a spot\n",
    "    \"\"\"\n",
    "    #define propability that spot is not occupied\n",
    "    f0 = 1 - fb  \n",
    "\n",
    "    if fb > 1:\n",
    "        print('ERROR: Total fraction larger than 1')\n",
    "        exit()\n",
    "        \n",
    "    #assign variant B and unoccupied spots to the positions on the lattice with the given propabilities\n",
    "    #Variant B: 1, Vacant spot: 0\n",
    "    model = np.random.choice([0, 1], (lx,ly), p = [f0, fb])\n",
    "    \n",
    "    #pick random position and change it to variant A: -1 => one individual of type A just emerged\n",
    "    i = np.random.randint(0,lx) \n",
    "    j = np.random.randint(0,ly) \n",
    "    model[i][j] = -1\n",
    "    \n",
    "    return model"
   ]
  },
  {
   "cell_type": "code",
   "execution_count": 3,
   "id": "9c657636",
   "metadata": {},
   "outputs": [],
   "source": [
    "def iterate_fixation(r,lx,ly,model):\n",
    "    \"\"\"\n",
    "    iterates initial state until one of the variants is fixated using the moran algorithm:\n",
    "    r = relative fitness of varaiant A\n",
    "    lx,ly = dimensions of lattice in x and y direction\n",
    "    model = inital state of the system\n",
    "    \"\"\"\n",
    "    counter = 0\n",
    "    nA_list = []\n",
    "    nB_list = []\n",
    "\n",
    "    while True:\n",
    "        counter += 1\n",
    "\n",
    "        test = model.flatten().tolist()\n",
    "        #check if one mutation has been fixated, so now we either no longer have variant A or B in population\n",
    "        if 1 not in test or -1 not in test:\n",
    "            n_vacant = lx*ly - np.count_nonzero(model)     #count vacant states\n",
    "            nb = test.count(1)            #count states with variant B\n",
    "            na = test.count(-1)           #count states with variant A\n",
    "\n",
    "\n",
    "#             print('One-race state reached')\n",
    "#             print('vacant = ' + str(n_vacant))\n",
    "#             print('A = ' + str(na))\n",
    "#             print('B = ' + str(nb))\n",
    "#             print('number of total iterations =' + str(counter))\n",
    "#             print()\n",
    "            break\n",
    "\n",
    "        #count number of A and B elements\n",
    "        nA = (model.flatten()==-1).sum()\n",
    "        nB = (model.flatten()==1).sum()\n",
    "\n",
    "        nB_list.append(nB)\n",
    "        nA_list.append(nA)\n",
    "\n",
    "        #Using Moran model\n",
    "        \n",
    "        #A's prob to reproduce (more advantage than B)\n",
    "        ra = r*nA/(r*nA + nB)\n",
    "        #B's prob. to reproduce\n",
    "        rb = nB/(r*nA + nB)\n",
    "\n",
    "        #A's prob to die\n",
    "        da = nA/(nA + nB)\n",
    "        #B's prob. to die\n",
    "        db = nB/(nA + nB)\n",
    "\n",
    "        if da > 1 or da < 0 or db > 1 or db < 0:\n",
    "            print('ERROR: Death prob not physical')\n",
    "            exit()\n",
    "        if ra > 1 or ra < 0 or rb > 1 or rb < 0:\n",
    "            print('ERROR: Survival prob not physical')\n",
    "            exit()\n",
    "\n",
    "\n",
    "        #uniform distribution to use as comparison of conditions\n",
    "        prob_matrix = np.random.random((lx,ly))\n",
    "\n",
    "        #find indices all vacant spots\n",
    "        zeros = np.argwhere(model == 0)\n",
    "\n",
    "\n",
    "        #choose 1 element from the state to die\n",
    "        i = np.random.randint(0,lx) \n",
    "        j = np.random.randint(0,ly) \n",
    "\n",
    "        if model[i,j] == 1: #if occupied by B, and if condition is met, eliminate B\n",
    "\n",
    "            if prob_matrix[i,j] <= db:\n",
    "                model[i,j] = 0\n",
    "\n",
    "        elif model[i,j] == -1: #if occupied by A, and if condition is met, eliminate A\n",
    "\n",
    "            if prob_matrix[i,j] <= da:\n",
    "                model[i,j] = 0\n",
    "\n",
    "        else:\n",
    "            pass\n",
    "\n",
    "        #choose 1 element from the state to reproduce and if it reproduces, choose closest vacant spot to put new element\n",
    "        i = np.random.randint(0,lx) \n",
    "        j = np.random.randint(0,ly) \n",
    "        #find distances of all zeros from reference point \n",
    "        #gives for each zero the distance to the choosen element to reproduce\n",
    "        dist = np.sum((zeros-[i,j])**2, axis=1) #dist will throw an empty array if there are no more zeros (no more vacant spots)\n",
    "\n",
    "        if dist.size > 0:\n",
    "\n",
    "            #select point with minimum distance\n",
    "            index = np.argmin(dist)\n",
    "            #apply condition\n",
    "\n",
    "            if model[i,j] == 1: #if occupied by B, and if condition is met, reproduce B and place in closest vacant spot\n",
    "                if prob_matrix[i,j] <= rb:\n",
    "                    model[zeros[index][0], zeros[index][1]] = 1\n",
    "            elif model[i,j] == -1: #if occupied by A, and if condition is met, reproduce A and place in closest vacant spot\n",
    "                if prob_matrix[i,j] <= ra:\n",
    "                    model[zeros[index][0], zeros[index][1]] = -1\n",
    "            else:\n",
    "                pass\n",
    "    \n",
    "    return (na, nb, counter)\n",
    "    "
   ]
  },
  {
   "cell_type": "code",
   "execution_count": 4,
   "id": "4b4dfa1d",
   "metadata": {},
   "outputs": [],
   "source": [
    "def success_counter(r, N):\n",
    "    success = 0\n",
    "    fail = 0\n",
    "    \n",
    "    #Dimension of lattice\n",
    "    lx = 20\n",
    "    ly = 20\n",
    "\n",
    "    #fraction of different variants and of unoccupied spots\n",
    "    fb = 0.5\n",
    "    \n",
    "    for n in tqdm(range(N)):\n",
    "\n",
    "        model_oneofA = generate_model_oneofA(lx,ly,fb)\n",
    "        nA, nB, counter = iterate_fixation(r,lx,ly,model_oneofA)\n",
    "\n",
    "        if nA > 0:\n",
    "            success = success + 1\n",
    "        else:\n",
    "            fail = fail + 1\n",
    "\n",
    "    return success, fail, success/N"
   ]
  },
  {
   "cell_type": "code",
   "execution_count": 5,
   "id": "ba67c614",
   "metadata": {},
   "outputs": [
    {
     "name": "stderr",
     "output_type": "stream",
     "text": [
      "100%|██████████| 50/50 [03:01<00:00,  3.62s/it]\n",
      "100%|██████████| 50/50 [03:30<00:00,  4.21s/it]\n",
      "100%|██████████| 50/50 [04:12<00:00,  5.06s/it]\n",
      "100%|██████████| 50/50 [03:34<00:00,  4.30s/it]\n",
      "100%|██████████| 50/50 [04:59<00:00,  5.98s/it]\n",
      "100%|██████████| 50/50 [03:04<00:00,  3.68s/it]\n",
      "100%|██████████| 50/50 [05:05<00:00,  6.10s/it]\n"
     ]
    }
   ],
   "source": [
    "r = [5, 2, 1.1, 1.01, 1, 0.99, 0.9]\n",
    "N = 50 #number of experiments\n",
    "percentage_list = []\n",
    "for rate in r:\n",
    "    success, fail, percent_success = success_counter(rate, N)\n",
    "    percentage_list.append(percent_success)"
   ]
  },
  {
   "cell_type": "code",
   "execution_count": 6,
   "id": "ef876a03",
   "metadata": {},
   "outputs": [
    {
     "data": {
      "text/plain": [
       "[0.72, 0.44, 0.18, 0.02, 0.12, 0.12, 0.04]"
      ]
     },
     "execution_count": 6,
     "metadata": {},
     "output_type": "execute_result"
    }
   ],
   "source": [
    "percentage_list"
   ]
  },
  {
   "cell_type": "code",
   "execution_count": 7,
   "id": "b468bea4",
   "metadata": {},
   "outputs": [
    {
     "data": {
      "text/plain": [
       "[0.44, 0.18, 0.02, 0.12, 0.12, 0.04]"
      ]
     },
     "execution_count": 7,
     "metadata": {},
     "output_type": "execute_result"
    }
   ],
   "source": [
    "percentage_list[1::]"
   ]
  },
  {
   "cell_type": "code",
   "execution_count": 8,
   "id": "7e34f8f2",
   "metadata": {},
   "outputs": [
    {
     "data": {
      "image/png": "[encoded data removed]",
      "text/plain": [
       "<Figure size 504x360 with 1 Axes>"
      ]
     },
     "metadata": {
      "needs_background": "light"
     },
     "output_type": "display_data"
    }
   ],
   "source": [
    "plt.figure(figsize=(7,5))\n",
    "plt.scatter(r[1::], percentage_list[1::])\n",
    "plt.ylabel('Fraction of A fixated')\n",
    "plt.xlabel('fitness r')\n",
    "plt.show()"
   ]
  },
  {
   "cell_type": "code",
   "execution_count": 12,
   "id": "6589e9a8",
   "metadata": {},
   "outputs": [
    {
     "data": {
      "image/png": "[encoded data removed]",
      "text/plain": [
       "<Figure size 504x360 with 1 Axes>"
      ]
     },
     "metadata": {
      "needs_background": "light"
     },
     "output_type": "display_data"
    }
   ],
   "source": [
    "r = [5, 2, 1.1, 1.01, 1, 0.99, 0.9]\n",
    "plt.figure(figsize=(7,5))\n",
    "plt.scatter(r, percentage_list)\n",
    "plt.ylabel('Fraction of A fixated')\n",
    "plt.xlabel('fitness r')\n",
    "plt.show()"
   ]
  },
  {
   "cell_type": "code",
   "execution_count": 15,
   "id": "2f6acf59",
   "metadata": {},
   "outputs": [],
   "source": [
    "r = [5, 2, 1.1, 1.01, 0.99, 0.9]\n",
    "N = 200\n",
    "percentage_list_lecture = []\n",
    "for rate in r:\n",
    "    prob_fixation_lecture = (1 - (1/rate)) / (1 - (1/(rate**N)))\n",
    "    percentage_list_lecture.append(prob_fixation_lecture)"
   ]
  },
  {
   "cell_type": "code",
   "execution_count": 16,
   "id": "b2553f98",
   "metadata": {},
   "outputs": [
    {
     "data": {
      "text/plain": [
       "[0.8,\n",
       " 0.5,\n",
       " 0.0909090913877985,\n",
       " 0.0114685901804665,\n",
       " 0.0015627001004258946,\n",
       " 7.838976792925316e-11]"
      ]
     },
     "execution_count": 16,
     "metadata": {},
     "output_type": "execute_result"
    }
   ],
   "source": [
    "percentage_list_lecture"
   ]
  },
  {
   "cell_type": "code",
   "execution_count": 27,
   "id": "9fc4cdb1",
   "metadata": {},
   "outputs": [],
   "source": [
    "r = [5, 2, 1.1, 1.01, 0.99, 0.9]\n",
    "N = 200\n",
    "percentage_list_lecture_no_N = []\n",
    "for rate in r:\n",
    "    prob_fixation_lecture = (1 - (1/rate)) \n",
    "    percentage_list_lecture_no_N.append(prob_fixation_lecture)"
   ]
  },
  {
   "cell_type": "code",
   "execution_count": 17,
   "id": "fbb59e44",
   "metadata": {},
   "outputs": [
    {
     "data": {
      "image/png": "[encoded data removed]",
      "text/plain": [
       "<Figure size 504x360 with 1 Axes>"
      ]
     },
     "metadata": {
      "needs_background": "light"
     },
     "output_type": "display_data"
    }
   ],
   "source": [
    "r = [5, 2, 1.1, 1.01, 1, 0.99, 0.9]\n",
    "lecture_list = [0.8,\n",
    " 0.5,\n",
    " 0.0909090913877985,\n",
    " 0.0114685901804665,\n",
    " 0,\n",
    " 0.0015627001004258946,\n",
    " 7.838976792925316e-11]\n",
    "simulation_list = percentage_list\n",
    "plt.figure(figsize=(7,5))\n",
    "plt.scatter(r, percentage_list, label='simulation')\n",
    "plt.scatter(r, lecture_list, label='analytics')\n",
    "plt.ylabel('Fraction of A fixated')\n",
    "plt.xlabel('fitness r')\n",
    "plt.show()"
   ]
  },
  {
   "cell_type": "code",
   "execution_count": 28,
   "id": "65825190",
   "metadata": {},
   "outputs": [
    {
     "data": {
      "text/plain": [
       "[0.8,\n",
       " 0.5,\n",
       " 0.09090909090909094,\n",
       " 0.00990099009900991,\n",
       " -0.010101010101010166,\n",
       " -0.11111111111111116]"
      ]
     },
     "execution_count": 28,
     "metadata": {},
     "output_type": "execute_result"
    }
   ],
   "source": [
    "percentage_list_lecture_no_N"
   ]
  },
  {
   "cell_type": "code",
   "execution_count": 29,
   "id": "48c0144b",
   "metadata": {},
   "outputs": [],
   "source": [
    "lecture_list_no_N = [0.8,\n",
    " 0.5,\n",
    " 0.09090909090909094,\n",
    " 0.00990099009900991,\n",
    " 0,\n",
    " -0.010101010101010166,\n",
    " -0.11111111111111116]"
   ]
  },
  {
   "cell_type": "code",
   "execution_count": 34,
   "id": "0ae8c684",
   "metadata": {},
   "outputs": [
    {
     "data": {
      "text/plain": [
       "[0.72, 0.44, 0.18, 0.02, 0.12, 0.12, 0.04]"
      ]
     },
     "execution_count": 34,
     "metadata": {},
     "output_type": "execute_result"
    }
   ],
   "source": [
    "percentage_list"
   ]
  },
  {
   "cell_type": "code",
   "execution_count": 35,
   "id": "51fd6168",
   "metadata": {},
   "outputs": [
    {
     "data": {
      "text/html": [
       "<div>\n",
       "<style scoped>\n",
       "    .dataframe tbody tr th:only-of-type {\n",
       "        vertical-align: middle;\n",
       "    }\n",
       "\n",
       "    .dataframe tbody tr th {\n",
       "        vertical-align: top;\n",
       "    }\n",
       "\n",
       "    .dataframe thead th {\n",
       "        text-align: right;\n",
       "    }\n",
       "</style>\n",
       "<table border=\"1\" class=\"dataframe\">\n",
       "  <thead>\n",
       "    <tr style=\"text-align: right;\">\n",
       "      <th></th>\n",
       "      <th>fitness r</th>\n",
       "      <th>simulation</th>\n",
       "      <th>analytics</th>\n",
       "      <th>analytics_approx</th>\n",
       "    </tr>\n",
       "  </thead>\n",
       "  <tbody>\n",
       "    <tr>\n",
       "      <th>0</th>\n",
       "      <td>5.00</td>\n",
       "      <td>0.72</td>\n",
       "      <td>0.80000</td>\n",
       "      <td>0.80000</td>\n",
       "    </tr>\n",
       "    <tr>\n",
       "      <th>1</th>\n",
       "      <td>2.00</td>\n",
       "      <td>0.44</td>\n",
       "      <td>0.50000</td>\n",
       "      <td>0.50000</td>\n",
       "    </tr>\n",
       "    <tr>\n",
       "      <th>2</th>\n",
       "      <td>1.10</td>\n",
       "      <td>0.18</td>\n",
       "      <td>0.09091</td>\n",
       "      <td>0.09091</td>\n",
       "    </tr>\n",
       "    <tr>\n",
       "      <th>3</th>\n",
       "      <td>1.01</td>\n",
       "      <td>0.02</td>\n",
       "      <td>0.01147</td>\n",
       "      <td>0.00990</td>\n",
       "    </tr>\n",
       "    <tr>\n",
       "      <th>4</th>\n",
       "      <td>1.00</td>\n",
       "      <td>0.12</td>\n",
       "      <td>0.00000</td>\n",
       "      <td>0.00000</td>\n",
       "    </tr>\n",
       "    <tr>\n",
       "      <th>5</th>\n",
       "      <td>0.99</td>\n",
       "      <td>0.12</td>\n",
       "      <td>0.00156</td>\n",
       "      <td>-0.01010</td>\n",
       "    </tr>\n",
       "    <tr>\n",
       "      <th>6</th>\n",
       "      <td>0.90</td>\n",
       "      <td>0.04</td>\n",
       "      <td>0.00000</td>\n",
       "      <td>-0.11111</td>\n",
       "    </tr>\n",
       "  </tbody>\n",
       "</table>\n",
       "</div>"
      ],
      "text/plain": [
       "   fitness r  simulation  analytics  analytics_approx\n",
       "0       5.00        0.72    0.80000           0.80000\n",
       "1       2.00        0.44    0.50000           0.50000\n",
       "2       1.10        0.18    0.09091           0.09091\n",
       "3       1.01        0.02    0.01147           0.00990\n",
       "4       1.00        0.12    0.00000           0.00000\n",
       "5       0.99        0.12    0.00156          -0.01010\n",
       "6       0.90        0.04    0.00000          -0.11111"
      ]
     },
     "execution_count": 35,
     "metadata": {},
     "output_type": "execute_result"
    }
   ],
   "source": [
    "import pandas as pd\n",
    "r = [5, 2, 1.1, 1.01, 1, 0.99, 0.9]\n",
    "d = {'fitness r': r, 'simulation': percentage_list, 'analytics': np.round(lecture_list, 5), \n",
    "     'analytics_approx': np.round(lecture_list_no_N, 5)}\n",
    "df = pd.DataFrame(d)\n",
    "df"
   ]
  },
  {
   "cell_type": "code",
   "execution_count": null,
   "id": "76e22678",
   "metadata": {},
   "outputs": [],
   "source": []
  }
 ],
 "metadata": {
  "kernelspec": {
   "display_name": "Python 3",
   "language": "python",
   "name": "python3"
  },
  "language_info": {
   "codemirror_mode": {
    "name": "ipython",
    "version": 3
   },
   "file_extension": ".py",
   "mimetype": "text/x-python",
   "name": "python",
   "nbconvert_exporter": "python",
   "pygments_lexer": "ipython3",
   "version": "3.8.8"
  }
 },
 "nbformat": 4,
 "nbformat_minor": 5
}
