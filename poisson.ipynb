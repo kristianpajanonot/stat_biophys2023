{
 "cells": [
  {
   "cell_type": "code",
   "execution_count": 1,
   "id": "535596f2",
   "metadata": {},
   "outputs": [],
   "source": [
    "import numpy as np\n",
    "import matplotlib.pyplot as plt\n",
    "import matplotlib.cm as cm\n",
    "import matplotlib.animation as animation\n",
    "import matplotlib as mpl\n",
    "from timeit import default_timer as timer\n",
    "from tqdm import tqdm"
   ]
  },
  {
   "cell_type": "code",
   "execution_count": 2,
   "id": "8153529f",
   "metadata": {},
   "outputs": [],
   "source": [
    "def add_offspring(model, lx, ly, adda):    \n",
    "    zero_loc = np.where(model==0)\n",
    "\n",
    "    k = np.shape(zero_loc)[1]\n",
    "\n",
    "    add_model = np.zeros((lx,ly))\n",
    "    counta = 0\n",
    "\n",
    "    while counta < adda:\n",
    "        for i in range(0,k):\n",
    "            add_model[zero_loc[0][i], zero_loc[1][i]] = -1\n",
    "            counta = counta + 1\n",
    "\n",
    "            if counta == adda:\n",
    "                break\n",
    "\n",
    "    model = model + add_model\n",
    "    return model"
   ]
  },
  {
   "cell_type": "code",
   "execution_count": 7,
   "id": "e87791ab",
   "metadata": {},
   "outputs": [
    {
     "data": {
      "text/plain": [
       "3"
      ]
     },
     "execution_count": 7,
     "metadata": {},
     "output_type": "execute_result"
    }
   ],
   "source": [
    "np.random.poisson(1)"
   ]
  },
  {
   "cell_type": "code",
   "execution_count": 8,
   "id": "d4b65193",
   "metadata": {},
   "outputs": [
    {
     "name": "stderr",
     "output_type": "stream",
     "text": [
      "\r",
      "  0%|          | 0/100 [00:00<?, ?it/s]"
     ]
    },
    {
     "name": "stdout",
     "output_type": "stream",
     "text": [
      "Experiment number =0\n",
      "Number of success = 0\n",
      "Number of failure = 0\n"
     ]
    },
    {
     "name": "stderr",
     "output_type": "stream",
     "text": [
      "\r",
      "  1%|          | 1/100 [00:16<27:22, 16.60s/it]"
     ]
    },
    {
     "name": "stdout",
     "output_type": "stream",
     "text": [
      "Fixation has failed at iteration number 2\n"
     ]
    },
    {
     "name": "stderr",
     "output_type": "stream",
     "text": [
      "\r",
      "  3%|▎         | 3/100 [00:32<16:37, 10.28s/it]"
     ]
    },
    {
     "name": "stdout",
     "output_type": "stream",
     "text": [
      "Fixation has failed at iteration number 2\n"
     ]
    },
    {
     "name": "stderr",
     "output_type": "stream",
     "text": [
      "\r",
      "  5%|▌         | 5/100 [00:49<14:32,  9.18s/it]"
     ]
    },
    {
     "name": "stdout",
     "output_type": "stream",
     "text": [
      "Experiment number =5\n",
      "Number of success = 3\n",
      "Number of failure = 2\n",
      "Fixation has failed at iteration number 1\n"
     ]
    },
    {
     "name": "stderr",
     "output_type": "stream",
     "text": [
      "  9%|▉         | 9/100 [01:18<11:43,  7.74s/it]"
     ]
    },
    {
     "name": "stdout",
     "output_type": "stream",
     "text": [
      "Fixation has failed at iteration number 1\n",
      "Experiment number =10\n",
      "Number of success = 6\n",
      "Number of failure = 4\n"
     ]
    },
    {
     "name": "stderr",
     "output_type": "stream",
     "text": [
      " 12%|█▏        | 12/100 [01:30<08:34,  5.85s/it]"
     ]
    },
    {
     "name": "stdout",
     "output_type": "stream",
     "text": [
      "Fixation has failed at iteration number 9\n",
      "Fixation has failed at iteration number 1\n",
      "Fixation has failed at iteration number 4\n",
      "Experiment number =15\n",
      "Number of success = 8\n",
      "Number of failure = 7\n"
     ]
    },
    {
     "name": "stderr",
     "output_type": "stream",
     "text": [
      " 17%|█▋        | 17/100 [01:42<05:15,  3.80s/it]"
     ]
    },
    {
     "name": "stdout",
     "output_type": "stream",
     "text": [
      "Fixation has failed at iteration number 2\n",
      "Fixation has failed at iteration number 2\n",
      "Fixation has failed at iteration number 1\n",
      "Experiment number =20\n",
      "Number of success = 10\n",
      "Number of failure = 10\n",
      "Fixation has failed at iteration number 2\n"
     ]
    },
    {
     "name": "stderr",
     "output_type": "stream",
     "text": [
      " 24%|██▍       | 24/100 [01:59<04:16,  3.38s/it]"
     ]
    },
    {
     "name": "stdout",
     "output_type": "stream",
     "text": [
      "Fixation has failed at iteration number 1\n",
      "Experiment number =25\n",
      "Number of success = 13\n",
      "Number of failure = 12\n",
      "Fixation has failed at iteration number 1\n"
     ]
    },
    {
     "name": "stderr",
     "output_type": "stream",
     "text": [
      "\r",
      " 27%|██▋       | 27/100 [02:05<03:25,  2.82s/it]"
     ]
    },
    {
     "name": "stdout",
     "output_type": "stream",
     "text": [
      "Fixation has failed at iteration number 1\n",
      "Fixation has failed at iteration number 5\n",
      "Fixation has failed at iteration number 1\n",
      "Experiment number =30\n",
      "Number of success = 14\n",
      "Number of failure = 16\n"
     ]
    },
    {
     "name": "stderr",
     "output_type": "stream",
     "text": [
      "\r",
      " 31%|███       | 31/100 [02:11<02:33,  2.23s/it]"
     ]
    },
    {
     "name": "stdout",
     "output_type": "stream",
     "text": [
      "Fixation has failed at iteration number 7\n",
      "Fixation has failed at iteration number 2\n",
      "Fixation has failed at iteration number 1\n",
      "Fixation has failed at iteration number 1\n",
      "Experiment number =35\n",
      "Number of success = 15\n",
      "Number of failure = 20\n",
      "Fixation has failed at iteration number 2\n"
     ]
    },
    {
     "name": "stderr",
     "output_type": "stream",
     "text": [
      " 40%|████      | 40/100 [02:34<03:01,  3.02s/it]"
     ]
    },
    {
     "name": "stdout",
     "output_type": "stream",
     "text": [
      "Experiment number =40\n",
      "Number of success = 19\n",
      "Number of failure = 21\n"
     ]
    },
    {
     "name": "stderr",
     "output_type": "stream",
     "text": [
      " 43%|████▎     | 43/100 [02:52<04:08,  4.37s/it]"
     ]
    },
    {
     "name": "stdout",
     "output_type": "stream",
     "text": [
      "Fixation has failed at iteration number 1\n"
     ]
    },
    {
     "name": "stderr",
     "output_type": "stream",
     "text": [
      "\r",
      " 45%|████▌     | 45/100 [02:57<03:27,  3.77s/it]"
     ]
    },
    {
     "name": "stdout",
     "output_type": "stream",
     "text": [
      "Experiment number =45\n",
      "Number of success = 23\n",
      "Number of failure = 22\n",
      "Fixation has failed at iteration number 1\n",
      "Fixation has failed at iteration number 3\n"
     ]
    },
    {
     "name": "stderr",
     "output_type": "stream",
     "text": [
      "\r",
      " 48%|████▊     | 48/100 [03:04<02:37,  3.03s/it]"
     ]
    },
    {
     "name": "stdout",
     "output_type": "stream",
     "text": [
      "Fixation has failed at iteration number 2\n"
     ]
    },
    {
     "name": "stderr",
     "output_type": "stream",
     "text": [
      "\r",
      " 50%|█████     | 50/100 [03:10<02:32,  3.05s/it]"
     ]
    },
    {
     "name": "stdout",
     "output_type": "stream",
     "text": [
      "Experiment number =50\n",
      "Number of success = 25\n",
      "Number of failure = 25\n",
      "Fixation has failed at iteration number 4\n",
      "Fixation has failed at iteration number 1\n"
     ]
    },
    {
     "name": "stderr",
     "output_type": "stream",
     "text": [
      "\r",
      " 53%|█████▎    | 53/100 [03:16<02:02,  2.62s/it]"
     ]
    },
    {
     "name": "stdout",
     "output_type": "stream",
     "text": [
      "Fixation has failed at iteration number 3\n",
      "Fixation has failed at iteration number 1\n",
      "Experiment number =55\n",
      "Number of success = 26\n",
      "Number of failure = 29\n",
      "Fixation has failed at iteration number 1\n"
     ]
    },
    {
     "name": "stderr",
     "output_type": "stream",
     "text": [
      "\r",
      " 57%|█████▋    | 57/100 [03:22<01:31,  2.13s/it]"
     ]
    },
    {
     "name": "stdout",
     "output_type": "stream",
     "text": [
      "Fixation has failed at iteration number 1\n",
      "Fixation has failed at iteration number 1\n",
      "Fixation has failed at iteration number 1\n",
      "Experiment number =60\n",
      "Number of success = 27\n",
      "Number of failure = 33\n",
      "Fixation has failed at iteration number 2\n",
      "Fixation has failed at iteration number 4\n"
     ]
    },
    {
     "name": "stderr",
     "output_type": "stream",
     "text": [
      " 64%|██████▍   | 64/100 [03:35<01:15,  2.10s/it]"
     ]
    },
    {
     "name": "stdout",
     "output_type": "stream",
     "text": [
      "Fixation has failed at iteration number 2\n",
      "Experiment number =65\n",
      "Number of success = 29\n",
      "Number of failure = 36\n",
      "Fixation has failed at iteration number 3\n",
      "Fixation has failed at iteration number 4\n"
     ]
    },
    {
     "name": "stderr",
     "output_type": "stream",
     "text": [
      "\r",
      " 68%|██████▊   | 68/100 [03:40<00:59,  1.87s/it]"
     ]
    },
    {
     "name": "stdout",
     "output_type": "stream",
     "text": [
      "Fixation has failed at iteration number 1\n",
      "Fixation has failed at iteration number 8\n",
      "Experiment number =70\n",
      "Number of success = 30\n",
      "Number of failure = 40\n"
     ]
    },
    {
     "name": "stderr",
     "output_type": "stream",
     "text": [
      "\r",
      " 71%|███████   | 71/100 [03:46<00:53,  1.86s/it]"
     ]
    },
    {
     "name": "stdout",
     "output_type": "stream",
     "text": [
      "Fixation has failed at iteration number 1\n",
      "Fixation has failed at iteration number 3\n",
      "Fixation has failed at iteration number 2\n",
      "Fixation has failed at iteration number 1\n",
      "Experiment number =75\n",
      "Number of success = 31\n",
      "Number of failure = 44\n",
      "Fixation has failed at iteration number 1\n",
      "Fixation has failed at iteration number 3\n",
      "Fixation has failed at iteration number 5\n"
     ]
    },
    {
     "name": "stderr",
     "output_type": "stream",
     "text": [
      " 80%|████████  | 80/100 [04:03<00:40,  2.02s/it]"
     ]
    },
    {
     "name": "stdout",
     "output_type": "stream",
     "text": [
      "Experiment number =80\n",
      "Number of success = 33\n",
      "Number of failure = 47\n"
     ]
    },
    {
     "name": "stderr",
     "output_type": "stream",
     "text": [
      " 82%|████████▏ | 82/100 [04:17<00:54,  3.03s/it]"
     ]
    },
    {
     "name": "stdout",
     "output_type": "stream",
     "text": [
      "Fixation has failed at iteration number 1\n"
     ]
    },
    {
     "name": "stderr",
     "output_type": "stream",
     "text": [
      " 85%|████████▌ | 85/100 [04:30<00:54,  3.65s/it]"
     ]
    },
    {
     "name": "stdout",
     "output_type": "stream",
     "text": [
      "Experiment number =85\n",
      "Number of success = 37\n",
      "Number of failure = 48\n"
     ]
    },
    {
     "name": "stderr",
     "output_type": "stream",
     "text": [
      "\r",
      " 86%|████████▌ | 86/100 [04:36<00:57,  4.08s/it]"
     ]
    },
    {
     "name": "stdout",
     "output_type": "stream",
     "text": [
      "Fixation has failed at iteration number 1\n",
      "Fixation has failed at iteration number 1\n",
      "Fixation has failed at iteration number 3\n",
      "Fixation has failed at iteration number 1\n",
      "Experiment number =90\n",
      "Number of success = 38\n",
      "Number of failure = 52\n",
      "Fixation has failed at iteration number 1\n"
     ]
    },
    {
     "name": "stderr",
     "output_type": "stream",
     "text": [
      "\r",
      " 92%|█████████▏| 92/100 [04:41<00:17,  2.15s/it]"
     ]
    },
    {
     "name": "stdout",
     "output_type": "stream",
     "text": [
      "Fixation has failed at iteration number 1\n",
      "Fixation has failed at iteration number 2\n"
     ]
    },
    {
     "name": "stderr",
     "output_type": "stream",
     "text": [
      "\r",
      " 95%|█████████▌| 95/100 [04:47<00:10,  2.11s/it]"
     ]
    },
    {
     "name": "stdout",
     "output_type": "stream",
     "text": [
      "Experiment number =95\n",
      "Number of success = 40\n",
      "Number of failure = 55\n",
      "Fixation has failed at iteration number 3\n",
      "Fixation has failed at iteration number 1\n",
      "Fixation has failed at iteration number 1\n"
     ]
    },
    {
     "name": "stderr",
     "output_type": "stream",
     "text": [
      "100%|██████████| 100/100 [04:53<00:00,  2.94s/it]"
     ]
    },
    {
     "name": "stdout",
     "output_type": "stream",
     "text": [
      "Fixation has failed at iteration number 2\n"
     ]
    },
    {
     "name": "stderr",
     "output_type": "stream",
     "text": [
      "\n"
     ]
    }
   ],
   "source": [
    "#Number of experiments\n",
    "N = 100\n",
    "\n",
    "success = 0\n",
    "fail = 0\n",
    "\n",
    "#Number of iteration\n",
    "T = 1000\n",
    "\n",
    "#A's prob. of death\n",
    "Pd = 0.3\n",
    "#A's prob. of live and produce ONE offspring\n",
    "Ps = 0.6\n",
    "\n",
    "#Dimension of lattice\n",
    "lx = 50\n",
    "ly = 50\n",
    "\n",
    "np.random.seed(97)\n",
    "\n",
    "for nn in tqdm(range (0,N)): \n",
    "    if nn%5 == 0:\n",
    "        print('Experiment number =' + str(nn))\n",
    "\n",
    "        print('Number of success = ' + str(success))\n",
    "        print('Number of failure = ' + str(fail))\n",
    "\n",
    "    model = np.zeros((lx,ly))\n",
    "    \n",
    "    #Race A: -1, Vacant spot: 0\n",
    "    model[0,0] = -1\n",
    "\n",
    "    for k in range(0,T):\n",
    "    \n",
    "        test = model.flatten().tolist()\n",
    "        if -1 not in test:\n",
    "            print('Fixation has failed at iteration number ' + str(k))\n",
    "            fail = fail + 1\n",
    "            break\n",
    "            \n",
    "        adda = 0\n",
    "\n",
    "        prob_matrix = np.random.random((lx,ly))\n",
    "\n",
    "        A_loc = np.where(model == -1)\n",
    "\n",
    "        n_A = np.shape(A_loc)[1]\n",
    "\n",
    "\n",
    "        for i in range(0, n_A):\n",
    "            #A dies\n",
    "            if prob_matrix[A_loc[0][i], A_loc[1][i]] <= Pd:\n",
    "\n",
    "                model[A_loc[0][i], A_loc[1][i]] = 0\n",
    "\n",
    "            #Live and prosperous\n",
    "            elif prob_matrix[A_loc[0][i], A_loc[1][i]] > Pd and\\\n",
    "                prob_matrix[A_loc[0][i], A_loc[1][i]] <= (Pd + Ps):\n",
    "\n",
    "                poisson_ = np.random.poisson(1)\n",
    "                adda = adda + poisson_\n",
    "\n",
    "        #Do another loop to add the offsprings\n",
    "\n",
    "        n_vacant = lx*ly - np.count_nonzero(model)\n",
    "        toadd = adda\n",
    "        \n",
    "        if toadd <= n_vacant:\n",
    "            model = add_offspring(model, lx, ly, adda)\n",
    "\n",
    "        else:\n",
    "            model = np.ones((lx,ly)) * -1\n",
    "\n",
    "        if k == T-1:\n",
    "            success = success + 1\n"
   ]
  },
  {
   "cell_type": "code",
   "execution_count": 9,
   "id": "b44265de",
   "metadata": {},
   "outputs": [
    {
     "data": {
      "text/plain": [
       "41"
      ]
     },
     "execution_count": 9,
     "metadata": {},
     "output_type": "execute_result"
    }
   ],
   "source": [
    "success"
   ]
  },
  {
   "cell_type": "code",
   "execution_count": 10,
   "id": "b8db60d3",
   "metadata": {},
   "outputs": [
    {
     "data": {
      "text/plain": [
       "59"
      ]
     },
     "execution_count": 10,
     "metadata": {},
     "output_type": "execute_result"
    }
   ],
   "source": [
    "fail"
   ]
  },
  {
   "cell_type": "code",
   "execution_count": 38,
   "id": "6f72deb0",
   "metadata": {},
   "outputs": [],
   "source": [
    "model = np.zeros((3, 3))"
   ]
  },
  {
   "cell_type": "code",
   "execution_count": 39,
   "id": "687fecda",
   "metadata": {},
   "outputs": [
    {
     "data": {
      "text/plain": [
       "array([[0., 0., 0.],\n",
       "       [0., 0., 0.],\n",
       "       [0., 0., 0.]])"
      ]
     },
     "execution_count": 39,
     "metadata": {},
     "output_type": "execute_result"
    }
   ],
   "source": [
    "model"
   ]
  },
  {
   "cell_type": "code",
   "execution_count": 40,
   "id": "81d6032d",
   "metadata": {},
   "outputs": [],
   "source": [
    "model[0,0] = -1\n",
    "model[1,1] = -1"
   ]
  },
  {
   "cell_type": "code",
   "execution_count": 41,
   "id": "4e806194",
   "metadata": {},
   "outputs": [
    {
     "data": {
      "text/plain": [
       "array([[-1.,  0.,  0.],\n",
       "       [ 0., -1.,  0.],\n",
       "       [ 0.,  0.,  0.]])"
      ]
     },
     "execution_count": 41,
     "metadata": {},
     "output_type": "execute_result"
    }
   ],
   "source": [
    "model"
   ]
  },
  {
   "cell_type": "code",
   "execution_count": 42,
   "id": "5b849533",
   "metadata": {},
   "outputs": [
    {
     "data": {
      "text/plain": [
       "(array([0, 1], dtype=int64), array([0, 1], dtype=int64))"
      ]
     },
     "execution_count": 42,
     "metadata": {},
     "output_type": "execute_result"
    }
   ],
   "source": [
    "A_loc = np.where(model == -1)\n",
    "A_loc"
   ]
  },
  {
   "cell_type": "code",
   "execution_count": 43,
   "id": "0847fd9f",
   "metadata": {},
   "outputs": [],
   "source": [
    "model = add_offspring(model, 3, 3, 1)"
   ]
  },
  {
   "cell_type": "code",
   "execution_count": 44,
   "id": "f9b0f805",
   "metadata": {},
   "outputs": [
    {
     "data": {
      "text/plain": [
       "array([[-1., -1.,  0.],\n",
       "       [ 0., -1.,  0.],\n",
       "       [ 0.,  0.,  0.]])"
      ]
     },
     "execution_count": 44,
     "metadata": {},
     "output_type": "execute_result"
    }
   ],
   "source": [
    "model"
   ]
  },
  {
   "cell_type": "code",
   "execution_count": 45,
   "id": "78a04b96",
   "metadata": {},
   "outputs": [],
   "source": [
    "aa = np.shape(A_loc)[1]\n",
    "for i in range(0,aa):\n",
    "    model[A_loc[0][i], A_loc[1][i]] = 0"
   ]
  },
  {
   "cell_type": "code",
   "execution_count": 46,
   "id": "d69763d5",
   "metadata": {},
   "outputs": [
    {
     "data": {
      "text/plain": [
       "array([[ 0., -1.,  0.],\n",
       "       [ 0.,  0.,  0.],\n",
       "       [ 0.,  0.,  0.]])"
      ]
     },
     "execution_count": 46,
     "metadata": {},
     "output_type": "execute_result"
    }
   ],
   "source": [
    "model"
   ]
  },
  {
   "cell_type": "code",
   "execution_count": 47,
   "id": "f45dca9b",
   "metadata": {},
   "outputs": [
    {
     "data": {
      "text/plain": [
       "(array([0], dtype=int64), array([1], dtype=int64))"
      ]
     },
     "execution_count": 47,
     "metadata": {},
     "output_type": "execute_result"
    }
   ],
   "source": [
    "A_loc = np.where(model == -1)\n",
    "A_loc"
   ]
  },
  {
   "cell_type": "code",
   "execution_count": 48,
   "id": "7c68dfa2",
   "metadata": {},
   "outputs": [
    {
     "data": {
      "text/plain": [
       "array([[-1., -1., -1.],\n",
       "       [ 0.,  0.,  0.],\n",
       "       [ 0.,  0.,  0.]])"
      ]
     },
     "execution_count": 48,
     "metadata": {},
     "output_type": "execute_result"
    }
   ],
   "source": [
    "model = add_offspring(model, 3, 3, 2)\n",
    "model"
   ]
  },
  {
   "cell_type": "code",
   "execution_count": 49,
   "id": "7716ff72",
   "metadata": {},
   "outputs": [],
   "source": [
    "aa = np.shape(A_loc)[1]\n",
    "for i in range(0,aa):\n",
    "    model[A_loc[0][i], A_loc[1][i]] = 0"
   ]
  },
  {
   "cell_type": "code",
   "execution_count": 50,
   "id": "8f7db9ec",
   "metadata": {},
   "outputs": [
    {
     "data": {
      "text/plain": [
       "array([[-1.,  0., -1.],\n",
       "       [ 0.,  0.,  0.],\n",
       "       [ 0.,  0.,  0.]])"
      ]
     },
     "execution_count": 50,
     "metadata": {},
     "output_type": "execute_result"
    }
   ],
   "source": [
    "model"
   ]
  },
  {
   "cell_type": "code",
   "execution_count": 51,
   "id": "7ab1e3b4",
   "metadata": {},
   "outputs": [
    {
     "name": "stderr",
     "output_type": "stream",
     "text": [
      "\r",
      "  0%|          | 0/100 [00:00<?, ?it/s]"
     ]
    },
    {
     "name": "stdout",
     "output_type": "stream",
     "text": [
      "Experiment number =0\n",
      "Number of success = 0\n",
      "Number of failure = 0\n"
     ]
    },
    {
     "name": "stderr",
     "output_type": "stream",
     "text": [
      "  3%|▎         | 3/100 [00:13<07:20,  4.54s/it]"
     ]
    },
    {
     "name": "stdout",
     "output_type": "stream",
     "text": [
      "Fixation has failed at iteration number 1\n"
     ]
    },
    {
     "name": "stderr",
     "output_type": "stream",
     "text": [
      "\r",
      "  5%|▌         | 5/100 [00:18<05:10,  3.27s/it]"
     ]
    },
    {
     "name": "stdout",
     "output_type": "stream",
     "text": [
      "Experiment number =5\n",
      "Number of success = 4\n",
      "Number of failure = 1\n",
      "Fixation has failed at iteration number 1\n"
     ]
    },
    {
     "name": "stderr",
     "output_type": "stream",
     "text": [
      " 10%|█         | 10/100 [00:36<05:50,  3.89s/it]"
     ]
    },
    {
     "name": "stdout",
     "output_type": "stream",
     "text": [
      "Experiment number =10\n",
      "Number of success = 8\n",
      "Number of failure = 2\n"
     ]
    },
    {
     "name": "stderr",
     "output_type": "stream",
     "text": [
      " 15%|█▌        | 15/100 [01:00<06:19,  4.47s/it]"
     ]
    },
    {
     "name": "stdout",
     "output_type": "stream",
     "text": [
      "Experiment number =15\n",
      "Number of success = 13\n",
      "Number of failure = 2\n"
     ]
    },
    {
     "name": "stderr",
     "output_type": "stream",
     "text": [
      "\r",
      " 16%|█▌        | 16/100 [01:04<06:16,  4.48s/it]"
     ]
    },
    {
     "name": "stdout",
     "output_type": "stream",
     "text": [
      "Fixation has failed at iteration number 1\n"
     ]
    },
    {
     "name": "stderr",
     "output_type": "stream",
     "text": [
      "\r",
      " 18%|█▊        | 18/100 [01:09<04:45,  3.48s/it]"
     ]
    },
    {
     "name": "stdout",
     "output_type": "stream",
     "text": [
      "Fixation has failed at iteration number 1\n"
     ]
    },
    {
     "name": "stderr",
     "output_type": "stream",
     "text": [
      "\r",
      " 20%|██        | 20/100 [01:13<03:57,  2.97s/it]"
     ]
    },
    {
     "name": "stdout",
     "output_type": "stream",
     "text": [
      "Experiment number =20\n",
      "Number of success = 16\n",
      "Number of failure = 4\n"
     ]
    },
    {
     "name": "stderr",
     "output_type": "stream",
     "text": [
      " 23%|██▎       | 23/100 [01:26<04:51,  3.78s/it]"
     ]
    },
    {
     "name": "stdout",
     "output_type": "stream",
     "text": [
      "Fixation has failed at iteration number 2\n",
      "Fixation has failed at iteration number 1\n",
      "Experiment number =25\n",
      "Number of success = 19\n",
      "Number of failure = 6\n"
     ]
    },
    {
     "name": "stderr",
     "output_type": "stream",
     "text": [
      " 29%|██▉       | 29/100 [01:45<04:22,  3.70s/it]"
     ]
    },
    {
     "name": "stdout",
     "output_type": "stream",
     "text": [
      "Fixation has failed at iteration number 1\n",
      "Experiment number =30\n",
      "Number of success = 23\n",
      "Number of failure = 7\n"
     ]
    },
    {
     "name": "stderr",
     "output_type": "stream",
     "text": [
      " 34%|███▍      | 34/100 [02:04<04:27,  4.05s/it]"
     ]
    },
    {
     "name": "stdout",
     "output_type": "stream",
     "text": [
      "Fixation has failed at iteration number 1\n",
      "Experiment number =35\n",
      "Number of success = 27\n",
      "Number of failure = 8\n"
     ]
    },
    {
     "name": "stderr",
     "output_type": "stream",
     "text": [
      " 40%|████      | 40/100 [02:27<04:10,  4.18s/it]"
     ]
    },
    {
     "name": "stdout",
     "output_type": "stream",
     "text": [
      "Experiment number =40\n",
      "Number of success = 32\n",
      "Number of failure = 8\n",
      "Fixation has failed at iteration number 1\n"
     ]
    },
    {
     "name": "stderr",
     "output_type": "stream",
     "text": [
      " 45%|████▌     | 45/100 [02:45<03:40,  4.00s/it]"
     ]
    },
    {
     "name": "stdout",
     "output_type": "stream",
     "text": [
      "Experiment number =45\n",
      "Number of success = 36\n",
      "Number of failure = 9\n"
     ]
    },
    {
     "name": "stderr",
     "output_type": "stream",
     "text": [
      " 50%|█████     | 50/100 [03:08<03:40,  4.40s/it]"
     ]
    },
    {
     "name": "stdout",
     "output_type": "stream",
     "text": [
      "Experiment number =50\n",
      "Number of success = 41\n",
      "Number of failure = 9\n"
     ]
    },
    {
     "name": "stderr",
     "output_type": "stream",
     "text": [
      "\r",
      " 51%|█████     | 51/100 [03:12<03:38,  4.47s/it]"
     ]
    },
    {
     "name": "stdout",
     "output_type": "stream",
     "text": [
      "Fixation has failed at iteration number 1\n",
      "Fixation has failed at iteration number 1\n"
     ]
    },
    {
     "name": "stderr",
     "output_type": "stream",
     "text": [
      "\r",
      " 54%|█████▍    | 54/100 [03:17<02:08,  2.79s/it]"
     ]
    },
    {
     "name": "stdout",
     "output_type": "stream",
     "text": [
      "Fixation has failed at iteration number 7\n",
      "Experiment number =55\n",
      "Number of success = 43\n",
      "Number of failure = 12\n"
     ]
    },
    {
     "name": "stderr",
     "output_type": "stream",
     "text": [
      " 59%|█████▉    | 59/100 [03:35<02:28,  3.63s/it]"
     ]
    },
    {
     "name": "stdout",
     "output_type": "stream",
     "text": [
      "Fixation has failed at iteration number 1\n",
      "Experiment number =60\n",
      "Number of success = 47\n",
      "Number of failure = 13\n",
      "Fixation has failed at iteration number 2\n"
     ]
    },
    {
     "name": "stderr",
     "output_type": "stream",
     "text": [
      " 65%|██████▌   | 65/100 [03:53<02:06,  3.62s/it]"
     ]
    },
    {
     "name": "stdout",
     "output_type": "stream",
     "text": [
      "Experiment number =65\n",
      "Number of success = 51\n",
      "Number of failure = 14\n"
     ]
    },
    {
     "name": "stderr",
     "output_type": "stream",
     "text": [
      " 68%|██████▊   | 68/100 [04:07<02:16,  4.26s/it]"
     ]
    },
    {
     "name": "stdout",
     "output_type": "stream",
     "text": [
      "Fixation has failed at iteration number 4\n",
      "Fixation has failed at iteration number 2\n",
      "Experiment number =70\n",
      "Number of success = 54\n",
      "Number of failure = 16\n"
     ]
    },
    {
     "name": "stderr",
     "output_type": "stream",
     "text": [
      "\r",
      " 71%|███████   | 71/100 [04:12<01:20,  2.77s/it]"
     ]
    },
    {
     "name": "stdout",
     "output_type": "stream",
     "text": [
      "Fixation has failed at iteration number 1\n"
     ]
    },
    {
     "name": "stderr",
     "output_type": "stream",
     "text": [
      " 75%|███████▌  | 75/100 [04:26<01:25,  3.41s/it]"
     ]
    },
    {
     "name": "stdout",
     "output_type": "stream",
     "text": [
      "Experiment number =75\n",
      "Number of success = 58\n",
      "Number of failure = 17\n"
     ]
    },
    {
     "name": "stderr",
     "output_type": "stream",
     "text": [
      " 80%|████████  | 80/100 [04:48<01:24,  4.25s/it]"
     ]
    },
    {
     "name": "stdout",
     "output_type": "stream",
     "text": [
      "Experiment number =80\n",
      "Number of success = 63\n",
      "Number of failure = 17\n"
     ]
    },
    {
     "name": "stderr",
     "output_type": "stream",
     "text": [
      " 82%|████████▏ | 82/100 [04:57<01:19,  4.40s/it]"
     ]
    },
    {
     "name": "stdout",
     "output_type": "stream",
     "text": [
      "Fixation has failed at iteration number 1\n",
      "Fixation has failed at iteration number 3\n"
     ]
    },
    {
     "name": "stderr",
     "output_type": "stream",
     "text": [
      "\r",
      " 85%|████████▌ | 85/100 [05:02<00:42,  2.81s/it]"
     ]
    },
    {
     "name": "stdout",
     "output_type": "stream",
     "text": [
      "Experiment number =85\n",
      "Number of success = 66\n",
      "Number of failure = 19\n"
     ]
    },
    {
     "name": "stderr",
     "output_type": "stream",
     "text": [
      " 87%|████████▋ | 87/100 [05:12<00:48,  3.75s/it]"
     ]
    },
    {
     "name": "stdout",
     "output_type": "stream",
     "text": [
      "Fixation has failed at iteration number 1\n",
      "Fixation has failed at iteration number 2\n"
     ]
    },
    {
     "name": "stderr",
     "output_type": "stream",
     "text": [
      "\r",
      " 90%|█████████ | 90/100 [05:18<00:28,  2.82s/it]"
     ]
    },
    {
     "name": "stdout",
     "output_type": "stream",
     "text": [
      "Experiment number =90\n",
      "Number of success = 69\n",
      "Number of failure = 21\n",
      "Fixation has failed at iteration number 1\n",
      "Fixation has failed at iteration number 1\n"
     ]
    },
    {
     "name": "stderr",
     "output_type": "stream",
     "text": [
      " 95%|█████████▌| 95/100 [05:33<00:15,  3.16s/it]"
     ]
    },
    {
     "name": "stdout",
     "output_type": "stream",
     "text": [
      "Experiment number =95\n",
      "Number of success = 72\n",
      "Number of failure = 23\n"
     ]
    },
    {
     "name": "stderr",
     "output_type": "stream",
     "text": [
      " 98%|█████████▊| 98/100 [05:47<00:07,  3.97s/it]"
     ]
    },
    {
     "name": "stdout",
     "output_type": "stream",
     "text": [
      "Fixation has failed at iteration number 1\n"
     ]
    },
    {
     "name": "stderr",
     "output_type": "stream",
     "text": [
      "100%|██████████| 100/100 [05:52<00:00,  3.52s/it]\n"
     ]
    }
   ],
   "source": [
    "#Number of experiments\n",
    "N = 100\n",
    "\n",
    "success = 0\n",
    "fail = 0\n",
    "\n",
    "#Number of iteration\n",
    "T = 1000\n",
    "\n",
    "#Dimension of lattice\n",
    "lx = 50\n",
    "ly = 50\n",
    "\n",
    "for nn in tqdm(range (0,N)): \n",
    "    if nn%5 == 0:\n",
    "        print('Experiment number =' + str(nn))\n",
    "\n",
    "        print('Number of success = ' + str(success))\n",
    "        print('Number of failure = ' + str(fail))\n",
    "\n",
    "    model = np.zeros((lx,ly))\n",
    "    \n",
    "    #Race A: -1, Vacant spot: 0\n",
    "    model[0,0] = -1\n",
    "\n",
    "    for k in range(0,T):\n",
    "    \n",
    "        test = model.flatten().tolist()\n",
    "        if -1 not in test:\n",
    "            print('Fixation has failed at iteration number ' + str(k))\n",
    "            fail = fail + 1\n",
    "            break\n",
    "            \n",
    "        adda = 0\n",
    "        \n",
    "        #find where A is\n",
    "        A_loc = np.where(model == -1)\n",
    "        n_A = np.shape(A_loc)[1]\n",
    "\n",
    "        for i in range(0, n_A):\n",
    "            #let A reproduce offpsring following poisson\n",
    "            poisson_ = np.random.poisson(2)\n",
    "            adda = adda + poisson_\n",
    "        \n",
    "        #kill original A\n",
    "            model[A_loc[0][i], A_loc[1][i]] = 0\n",
    "        \n",
    "        #Do another loop to add the offsprings\n",
    "\n",
    "        n_vacant = lx*ly - np.count_nonzero(model)\n",
    "        toadd = adda\n",
    "        \n",
    "        if toadd <= n_vacant:\n",
    "            model = add_offspring(model, lx, ly, adda)\n",
    "\n",
    "        else:\n",
    "            model = np.ones((lx,ly)) * -1\n",
    "\n",
    "        if k == T-1:\n",
    "            success = success + 1\n"
   ]
  },
  {
   "cell_type": "code",
   "execution_count": 52,
   "id": "f8e4b0d2",
   "metadata": {},
   "outputs": [
    {
     "data": {
      "text/plain": [
       "76"
      ]
     },
     "execution_count": 52,
     "metadata": {},
     "output_type": "execute_result"
    }
   ],
   "source": [
    "success"
   ]
  },
  {
   "cell_type": "code",
   "execution_count": 53,
   "id": "7b7488a0",
   "metadata": {},
   "outputs": [
    {
     "data": {
      "text/plain": [
       "24"
      ]
     },
     "execution_count": 53,
     "metadata": {},
     "output_type": "execute_result"
    }
   ],
   "source": [
    "fail"
   ]
  },
  {
   "cell_type": "code",
   "execution_count": null,
   "id": "0f423ad0",
   "metadata": {},
   "outputs": [],
   "source": []
  }
 ],
 "metadata": {
  "kernelspec": {
   "display_name": "Python 3",
   "language": "python",
   "name": "python3"
  },
  "language_info": {
   "codemirror_mode": {
    "name": "ipython",
    "version": 3
   },
   "file_extension": ".py",
   "mimetype": "text/x-python",
   "name": "python",
   "nbconvert_exporter": "python",
   "pygments_lexer": "ipython3",
   "version": "3.8.8"
  }
 },
 "nbformat": 4,
 "nbformat_minor": 5
}
