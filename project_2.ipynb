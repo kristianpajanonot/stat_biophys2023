{
 "cells": [
  {
   "cell_type": "code",
   "execution_count": 1,
   "id": "e2b38072",
   "metadata": {},
   "outputs": [],
   "source": [
    "import numpy as np\n",
    "import matplotlib.pyplot as plt\n",
    "from tqdm import tqdm\n",
    "import pandas as pd"
   ]
  },
  {
   "cell_type": "code",
   "execution_count": 24,
   "id": "c9d6d8dd",
   "metadata": {},
   "outputs": [
    {
     "data": {
      "text/plain": [
       "2.0"
      ]
     },
     "execution_count": 24,
     "metadata": {},
     "output_type": "execute_result"
    }
   ],
   "source": [
    "(L-len_sequence)/3"
   ]
  },
  {
   "cell_type": "code",
   "execution_count": 26,
   "id": "75d3ab39",
   "metadata": {},
   "outputs": [
    {
     "data": {
      "text/plain": [
       "array([ 0,  0,  0, -1,  1,  1, -1,  1, -1,  0,  0,  0])"
      ]
     },
     "execution_count": 26,
     "metadata": {},
     "output_type": "execute_result"
    }
   ],
   "source": [
    "#start with initial sequence: HPPHPH\n",
    "len_sequence = 6 #length of sequence\n",
    "L = 12 #size of matrix\n",
    "init_sequence = np.array([-1,1,1,-1,1,-1])\n",
    "empty_state = np.zeros((L,L))\n",
    "\n",
    "#pad init sequence with zeros\n",
    "pad_init_state = np.pad(init_sequence, (int((L-len_sequence)/2),int((L-len_sequence)/2)))\n",
    "pad_init_state"
   ]
  },
  {
   "cell_type": "code",
   "execution_count": 30,
   "id": "f3219bfe",
   "metadata": {},
   "outputs": [
    {
     "data": {
      "text/plain": [
       "array([[ 0.,  0.,  0.,  0.,  0.,  0.,  0.,  0.,  0.,  0.,  0.,  0.],\n",
       "       [ 0.,  0.,  0.,  0.,  0.,  0.,  0.,  0.,  0.,  0.,  0.,  0.],\n",
       "       [ 0.,  0.,  0.,  0.,  0.,  0.,  0.,  0.,  0.,  0.,  0.,  0.],\n",
       "       [ 0.,  0.,  0.,  0.,  0.,  0.,  0.,  0.,  0.,  0.,  0.,  0.],\n",
       "       [ 0.,  0.,  0.,  0.,  0.,  0.,  0.,  0.,  0.,  0.,  0.,  0.],\n",
       "       [ 0.,  0.,  0.,  0.,  0.,  0.,  0.,  0.,  0.,  0.,  0.,  0.],\n",
       "       [ 0.,  0.,  0., -1.,  1.,  1., -1.,  1., -1.,  0.,  0.,  0.],\n",
       "       [ 0.,  0.,  0.,  0.,  0.,  0.,  0.,  0.,  0.,  0.,  0.,  0.],\n",
       "       [ 0.,  0.,  0.,  0.,  0.,  0.,  0.,  0.,  0.,  0.,  0.,  0.],\n",
       "       [ 0.,  0.,  0.,  0.,  0.,  0.,  0.,  0.,  0.,  0.,  0.,  0.],\n",
       "       [ 0.,  0.,  0.,  0.,  0.,  0.,  0.,  0.,  0.,  0.,  0.,  0.],\n",
       "       [ 0.,  0.,  0.,  0.,  0.,  0.,  0.,  0.,  0.,  0.,  0.,  0.],\n",
       "       [ 0.,  0.,  0.,  0.,  0.,  0.,  0.,  0.,  0.,  0.,  0.,  0.]])"
      ]
     },
     "execution_count": 30,
     "metadata": {},
     "output_type": "execute_result"
    }
   ],
   "source": [
    "#5 is the index which to insert, 0 is the axis.\n",
    "init_state = np.insert(empty_state, int(L/2), pad_init_state, 0)  \n",
    "init_state"
   ]
  },
  {
   "cell_type": "code",
   "execution_count": 31,
   "id": "de2f17a4",
   "metadata": {},
   "outputs": [
    {
     "data": {
      "text/plain": [
       "(array([6, 6, 6, 6, 6, 6], dtype=int64),\n",
       " array([3, 4, 5, 6, 7, 8], dtype=int64))"
      ]
     },
     "execution_count": 31,
     "metadata": {},
     "output_type": "execute_result"
    }
   ],
   "source": [
    "#choose a non-zero state:\n",
    "nonzero_pos = np.where(init_state!=0)\n",
    "nonzero_pos"
   ]
  },
  {
   "cell_type": "code",
   "execution_count": 32,
   "id": "aef9148f",
   "metadata": {},
   "outputs": [
    {
     "data": {
      "text/plain": [
       "6"
      ]
     },
     "execution_count": 32,
     "metadata": {},
     "output_type": "execute_result"
    }
   ],
   "source": [
    "#np.random.choice(nonzero_pos[0])\n",
    "6"
   ]
  },
  {
   "cell_type": "code",
   "execution_count": 33,
   "id": "4d10511c",
   "metadata": {},
   "outputs": [
    {
     "data": {
      "text/plain": [
       "6"
      ]
     },
     "execution_count": 33,
     "metadata": {},
     "output_type": "execute_result"
    }
   ],
   "source": [
    "#np.random.choice(nonzero_pos[1])\n",
    "6"
   ]
  },
  {
   "cell_type": "code",
   "execution_count": 34,
   "id": "ddbea35e",
   "metadata": {
    "scrolled": true
   },
   "outputs": [
    {
     "data": {
      "text/plain": [
       "array([[ 0.,  0.,  0., -1.,  1.,  1.]])"
      ]
     },
     "execution_count": 34,
     "metadata": {},
     "output_type": "execute_result"
    }
   ],
   "source": [
    "#need to slice where nonzero elements only\n",
    "\n",
    "sliced_ = init_state[6:6+1, 0:6]\n",
    "sliced_"
   ]
  },
  {
   "cell_type": "code",
   "execution_count": 8,
   "id": "e711a109",
   "metadata": {},
   "outputs": [
    {
     "data": {
      "text/plain": [
       "array([[-1.],\n",
       "       [ 1.],\n",
       "       [ 1.],\n",
       "       [-1.]])"
      ]
     },
     "execution_count": 8,
     "metadata": {},
     "output_type": "execute_result"
    }
   ],
   "source": [
    "rotated_90 = np.rot90(sliced_)\n",
    "rotated_90"
   ]
  },
  {
   "cell_type": "code",
   "execution_count": 9,
   "id": "eefd6ea0",
   "metadata": {},
   "outputs": [
    {
     "data": {
      "text/plain": [
       "array([[-1.],\n",
       "       [ 1.],\n",
       "       [ 1.],\n",
       "       [-1.]])"
      ]
     },
     "execution_count": 9,
     "metadata": {},
     "output_type": "execute_result"
    }
   ],
   "source": [
    "rotated_90_c = rotated_90.copy()\n",
    "rotated_90_c"
   ]
  },
  {
   "cell_type": "code",
   "execution_count": 10,
   "id": "f34a6f97",
   "metadata": {},
   "outputs": [
    {
     "data": {
      "text/plain": [
       "array([[ 0.,  0.,  0.,  0.,  0.,  0.],\n",
       "       [ 0.,  0.,  0.,  0.,  0.,  0.],\n",
       "       [ 0.,  0.,  0.,  0.,  0.,  0.],\n",
       "       [ 0.,  0.,  0.,  0.,  0.,  0.],\n",
       "       [ 0.,  0.,  0.,  0.,  0.,  0.],\n",
       "       [ 0.,  0.,  0.,  0.,  1., -1.],\n",
       "       [ 0.,  0.,  0.,  0.,  0.,  0.]])"
      ]
     },
     "execution_count": 10,
     "metadata": {},
     "output_type": "execute_result"
    }
   ],
   "source": [
    "init_state[0:5+1, 0:4] = 0\n",
    "init_state"
   ]
  },
  {
   "cell_type": "code",
   "execution_count": 11,
   "id": "d2e7b2da",
   "metadata": {},
   "outputs": [
    {
     "data": {
      "text/plain": [
       "array([[-1.],\n",
       "       [ 1.],\n",
       "       [ 1.],\n",
       "       [-1.]])"
      ]
     },
     "execution_count": 11,
     "metadata": {},
     "output_type": "execute_result"
    }
   ],
   "source": [
    "rotated_90_c"
   ]
  },
  {
   "cell_type": "code",
   "execution_count": 14,
   "id": "4ad6102a",
   "metadata": {},
   "outputs": [
    {
     "data": {
      "text/plain": [
       "array([[ 0.,  0.,  0.,  0.,  0.,  0.],\n",
       "       [ 0.,  0.,  0.,  0., -1.,  0.],\n",
       "       [ 0.,  0.,  0.,  0.,  1.,  0.],\n",
       "       [ 0.,  0.,  0.,  0.,  1.,  0.],\n",
       "       [ 0.,  0.,  0.,  0., -1.,  0.],\n",
       "       [ 0.,  0.,  0.,  0.,  0.,  0.],\n",
       "       [ 0.,  0.,  0.,  0.,  0.,  0.]])"
      ]
     },
     "execution_count": 14,
     "metadata": {},
     "output_type": "execute_result"
    }
   ],
   "source": [
    "#((top,bottom), (left, right))\n",
    "padded_rot90 = np.pad(rotated_90_c, ((1,2), (4,1)))\n",
    "padded_rot90"
   ]
  },
  {
   "cell_type": "code",
   "execution_count": 15,
   "id": "a84ef414",
   "metadata": {},
   "outputs": [
    {
     "data": {
      "text/plain": [
       "array([[ 0.,  0.,  0.,  0.,  0.,  0.],\n",
       "       [ 0.,  0.,  0.,  0., -1.,  0.],\n",
       "       [ 0.,  0.,  0.,  0.,  1.,  0.],\n",
       "       [ 0.,  0.,  0.,  0.,  1.,  0.],\n",
       "       [ 0.,  0.,  0.,  0., -1.,  0.],\n",
       "       [ 0.,  0.,  0.,  0.,  1., -1.],\n",
       "       [ 0.,  0.,  0.,  0.,  0.,  0.]])"
      ]
     },
     "execution_count": 15,
     "metadata": {},
     "output_type": "execute_result"
    }
   ],
   "source": [
    "padded_rot90+init_state"
   ]
  },
  {
   "cell_type": "code",
   "execution_count": 3,
   "id": "7a31c409",
   "metadata": {},
   "outputs": [],
   "source": [
    "#energy matrix: H-H = -1, others 0\n",
    "def compute_energies(state):\n",
    "    energy = 0\n",
    "    lx, ly = state.shape\n",
    "    for i_pair, s in np.ndenumerate(state):\n",
    "        #get the 4 neighbors for each s\n",
    "        nb1 = state[(i_pair[0], (i_pair[1]+1)%ly)]\n",
    "        nb2 = state[(i_pair[0], (i_pair[1]-1)%ly)]\n",
    "        nb3 = state[((i_pair[0]+1)%lx, i_pair[1])]\n",
    "        nb4 = state[((i_pair[0]-1)%lx, i_pair[1])]\n",
    "        \n",
    "        if (nb1 == -1) and (s == -1):\n",
    "            energy = energy - 1\n",
    "        if (nb2 == -1) and (s == -1):\n",
    "            energy = energy - 1\n",
    "        if (nb3 == -1) and (s == -1):\n",
    "            energy = energy - 1\n",
    "        if (nb4 == -1) and (s == -1):\n",
    "            energy = energy - 1\n",
    "        \n",
    "    return energy/2"
   ]
  },
  {
   "cell_type": "code",
   "execution_count": 4,
   "id": "a8b951cc",
   "metadata": {
    "scrolled": true
   },
   "outputs": [
    {
     "data": {
      "text/plain": [
       "-1.0"
      ]
     },
     "execution_count": 4,
     "metadata": {},
     "output_type": "execute_result"
    }
   ],
   "source": [
    "compute_energies(init_state)"
   ]
  },
  {
   "cell_type": "code",
   "execution_count": 10,
   "id": "f968d8a1",
   "metadata": {},
   "outputs": [
    {
     "data": {
      "text/plain": [
       "(array([5, 5, 5, 5, 5, 5], dtype=int64),\n",
       " array([0, 1, 2, 3, 4, 5], dtype=int64))"
      ]
     },
     "execution_count": 10,
     "metadata": {},
     "output_type": "execute_result"
    }
   ],
   "source": [
    "#choose a non-zero state:\n",
    "nonzero_pos = np.where(init_state!=0)\n",
    "nonzero_pos"
   ]
  },
  {
   "cell_type": "code",
   "execution_count": 11,
   "id": "28192109",
   "metadata": {},
   "outputs": [
    {
     "data": {
      "text/plain": [
       "5"
      ]
     },
     "execution_count": 11,
     "metadata": {},
     "output_type": "execute_result"
    }
   ],
   "source": [
    "np.random.choice(nonzero_pos[0])"
   ]
  },
  {
   "cell_type": "code",
   "execution_count": 12,
   "id": "8e85138a",
   "metadata": {},
   "outputs": [
    {
     "data": {
      "text/plain": [
       "0"
      ]
     },
     "execution_count": 12,
     "metadata": {},
     "output_type": "execute_result"
    }
   ],
   "source": [
    "np.random.choice(nonzero_pos[1])"
   ]
  },
  {
   "cell_type": "code",
   "execution_count": 27,
   "id": "adad9f41",
   "metadata": {},
   "outputs": [
    {
     "name": "stdout",
     "output_type": "stream",
     "text": [
      "(0, 0) 0.0 0.0 0.0 0.0\n",
      "(0, 1) 0.0 0.0 0.0 0.0\n",
      "(0, 2) 0.0 0.0 0.0 0.0\n",
      "(0, 3) 0.0 0.0 0.0 0.0\n",
      "(0, 4) 0.0 0.0 0.0 0.0\n",
      "(0, 5) 0.0 0.0 0.0 0.0\n",
      "(1, 0) 0.0 0.0 0.0 0.0\n",
      "(1, 1) 0.0 0.0 0.0 0.0\n",
      "(1, 2) 0.0 0.0 0.0 0.0\n",
      "(1, 3) 0.0 0.0 0.0 0.0\n",
      "(1, 4) 0.0 0.0 0.0 0.0\n",
      "(1, 5) 0.0 0.0 0.0 0.0\n",
      "(2, 0) 0.0 0.0 0.0 0.0\n",
      "(2, 1) 0.0 0.0 0.0 0.0\n",
      "(2, 2) 0.0 0.0 0.0 0.0\n",
      "(2, 3) 0.0 0.0 0.0 0.0\n",
      "(2, 4) 0.0 0.0 0.0 0.0\n",
      "(2, 5) 0.0 0.0 0.0 0.0\n",
      "(3, 0) 0.0 0.0 0.0 0.0\n",
      "(3, 1) 0.0 0.0 0.0 0.0\n",
      "(3, 2) 0.0 0.0 0.0 0.0\n",
      "(3, 3) 0.0 0.0 0.0 0.0\n",
      "(3, 4) 0.0 0.0 0.0 0.0\n",
      "(3, 5) 0.0 0.0 0.0 0.0\n",
      "(4, 0) 0.0 0.0 -1.0 0.0\n",
      "(4, 1) 0.0 0.0 1.0 0.0\n",
      "(4, 2) 0.0 0.0 1.0 0.0\n",
      "(4, 3) 0.0 0.0 -1.0 0.0\n",
      "(4, 4) 0.0 0.0 1.0 0.0\n",
      "(4, 5) 0.0 0.0 -1.0 0.0\n",
      "(5, 0) 1.0 -1.0 0.0 0.0\n",
      "(5, 1) 1.0 -1.0 0.0 0.0\n",
      "(5, 2) -1.0 1.0 0.0 0.0\n",
      "(5, 3) 1.0 1.0 0.0 0.0\n",
      "(5, 4) -1.0 -1.0 0.0 0.0\n",
      "(5, 5) -1.0 1.0 0.0 0.0\n",
      "(6, 0) 0.0 0.0 0.0 -1.0\n",
      "(6, 1) 0.0 0.0 0.0 1.0\n",
      "(6, 2) 0.0 0.0 0.0 1.0\n",
      "(6, 3) 0.0 0.0 0.0 -1.0\n",
      "(6, 4) 0.0 0.0 0.0 1.0\n",
      "(6, 5) 0.0 0.0 0.0 -1.0\n"
     ]
    }
   ],
   "source": [
    "lx, ly = init_state.shape\n",
    "for i_pair, s in np.ndenumerate(init_state):\n",
    "    #get the 4 neighbors for each s\n",
    "    nb1 = init_state[(i_pair[0], (i_pair[1]+1)%ly)]\n",
    "    nb2 = init_state[(i_pair[0], (i_pair[1]-1)%ly)]\n",
    "    nb3 = init_state[((i_pair[0]+1)%lx, i_pair[1])]\n",
    "    nb4 = init_state[((i_pair[0]-1)%lx, i_pair[1])]\n",
    "    \n",
    "    print(i_pair, nb1, nb2, nb3, nb4)"
   ]
  },
  {
   "cell_type": "code",
   "execution_count": null,
   "id": "9a57894c",
   "metadata": {},
   "outputs": [],
   "source": []
  },
  {
   "cell_type": "code",
   "execution_count": null,
   "id": "f37312ac",
   "metadata": {},
   "outputs": [],
   "source": [
    "def delta_energy(old_state, new_state):\n",
    "    energy_old_state = compute_energies(old_state)\n",
    "    energy_new_state = compute_energies(new_state)\n",
    "    return energy_old_state - energy_new_state"
   ]
  },
  {
   "cell_type": "code",
   "execution_count": null,
   "id": "b132a775",
   "metadata": {},
   "outputs": [],
   "source": [
    "def metropolis_step(state):\n",
    "    lx, ly = old_state.shape\n",
    "    new_configuration = np.zeros((lx, ly))\n",
    "    \n",
    "    #get new_state:\n",
    "    new_state = ()\n",
    "    #calculate energy:\n",
    "    delta_e = delta_energy(state, new_state)\n",
    "    #condition: if delta_e <= 0, accept the new configuration, if not, accept the new configuration only with probability\n",
    "    #p = exp(-beta*delta_e)\n",
    "    if delta_e <= 0:\n",
    "        new_configuration = new_state\n",
    "    else:\n",
    "        prob = np.exp(-beta*delta_e)\n",
    "        unif = np.random.rand()\n",
    "        if unif < prob:  \n",
    "            new_configuration = new_state\n",
    "        else:\n",
    "            new_configuration = state\n",
    "    return new_configuration"
   ]
  },
  {
   "cell_type": "code",
   "execution_count": null,
   "id": "147f3ccb",
   "metadata": {},
   "outputs": [],
   "source": [
    "n_realizations = 10000\n",
    "beta = 10\n",
    "print('orig state', state)\n",
    "for i in range(n_realizations):    \n",
    "    state = metropolis_step(state)\n",
    "    energy_state = compute_energies(state)\n",
    "    if  energy_state == -2:\n",
    "        print('After', i ,'metropolis steps, the desired new_configuration having minimum energy is obtained')\n",
    "        final_state = state\n",
    "        break\n",
    "\n",
    "print('final_state', final_state)"
   ]
  }
 ],
 "metadata": {
  "kernelspec": {
   "display_name": "Python 3",
   "language": "python",
   "name": "python3"
  },
  "language_info": {
   "codemirror_mode": {
    "name": "ipython",
    "version": 3
   },
   "file_extension": ".py",
   "mimetype": "text/x-python",
   "name": "python",
   "nbconvert_exporter": "python",
   "pygments_lexer": "ipython3",
   "version": "3.8.8"
  }
 },
 "nbformat": 4,
 "nbformat_minor": 5
}
