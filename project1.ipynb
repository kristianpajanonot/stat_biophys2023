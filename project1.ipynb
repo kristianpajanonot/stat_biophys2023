{
 "cells": [
  {
   "cell_type": "code",
   "execution_count": 1,
   "id": "3598b1c7",
   "metadata": {},
   "outputs": [],
   "source": [
    "import numpy as np\n",
    "import matplotlib.pyplot as plt\n",
    "import statistics as st"
   ]
  },
  {
   "cell_type": "markdown",
   "id": "dd2fba1e",
   "metadata": {},
   "source": [
    "Generate state: type 1 variant, type -1 variant. Start with N fixed "
   ]
  },
  {
   "cell_type": "code",
   "execution_count": 2,
   "id": "e70813c0",
   "metadata": {},
   "outputs": [],
   "source": [
    "def state_generator(L):\n",
    "    #generate matrix with size LxL based on probabilities\n",
    "    return np.random.choice([-1, 1], (L,L), p = [0.1, 0.9])"
   ]
  },
  {
   "cell_type": "code",
   "execution_count": 3,
   "id": "26297bc2",
   "metadata": {},
   "outputs": [
    {
     "data": {
      "text/plain": [
       "array([[ 1,  1,  1],\n",
       "       [ 1,  1,  1],\n",
       "       [-1,  1,  1]])"
      ]
     },
     "execution_count": 3,
     "metadata": {},
     "output_type": "execute_result"
    }
   ],
   "source": [
    "state = state_generator(3)\n",
    "state"
   ]
  },
  {
   "cell_type": "code",
   "execution_count": 4,
   "id": "2fa64d8b",
   "metadata": {},
   "outputs": [
    {
     "name": "stdout",
     "output_type": "stream",
     "text": [
      "type1\n",
      "type1\n"
     ]
    }
   ],
   "source": [
    "#count number of N and n, n is type 1 variant\n",
    "lx, ly = state.shape\n",
    "N = lx*ly\n",
    "n = (state.flatten()==-1).sum()\n",
    "# type1 = (state.flatten()==-1).sum()\n",
    "# type2 = (state.flatten()==1).sum()\n",
    "\n",
    "#probability of type 1,2 variant reproducing: with type 1 variant as more fit\n",
    "r = 1.05\n",
    "rep_p1 = r*n/(r*n + N-n)\n",
    "rep_p2 = (N-n)/(r*n + N-n)\n",
    "#probability of elimination for type 1,2 variant\n",
    "die_p1 = n/N\n",
    "die_p2 = (N-n)/N\n",
    "\n",
    "flattened_state = state.flatten()\n",
    "#choose 1 element from the state to reproduce\n",
    "chosen_index_rep = np.random.randint(0,lx**2) \n",
    "original_element_rep = flattened_state[chosen_index_rep]\n",
    "\n",
    "#choose 1 element from the state to die\n",
    "chosen_index_die = np.random.randint(0,lx**2)\n",
    "original_element_die = flattened_state[chosen_index_die]\n",
    "\n",
    "#apply condition to determine how many new elements are after 1 time step of reproduction\n",
    "rep_type1 = 0\n",
    "rep_type2 = 0\n",
    "#if chosen element to reproduce is type1 variant\n",
    "if original_element_rep == n:\n",
    "    print('type1')\n",
    "    rep_type1 = np.random.binomial(N, rep_p1)\n",
    "#else type 2 variant reproduces\n",
    "else:\n",
    "    rep_type2 = np.random.binomial(N, rep_p2)\n",
    "\n",
    "#apply condition to determine how many died\n",
    "die_type1 = 0\n",
    "die_type2 = 0\n",
    "if original_element_die == n:\n",
    "    print('type1')\n",
    "    die_type1 = np.random.binomial(N, die_p1)\n",
    "else:\n",
    "    die_type2 = np.random.binomial(N, die_p2)"
   ]
  },
  {
   "cell_type": "code",
   "execution_count": 11,
   "id": "f06b02c9",
   "metadata": {},
   "outputs": [],
   "source": [
    "new_n = n + rep_type1 - die_type1\n",
    "new_N = N - new_n"
   ]
  },
  {
   "cell_type": "code",
   "execution_count": 12,
   "id": "e88c873d",
   "metadata": {},
   "outputs": [
    {
     "data": {
      "text/plain": [
       "3"
      ]
     },
     "execution_count": 12,
     "metadata": {},
     "output_type": "execute_result"
    }
   ],
   "source": [
    "new_n"
   ]
  },
  {
   "cell_type": "code",
   "execution_count": 13,
   "id": "d2736704",
   "metadata": {},
   "outputs": [
    {
     "data": {
      "text/plain": [
       "6"
      ]
     },
     "execution_count": 13,
     "metadata": {},
     "output_type": "execute_result"
    }
   ],
   "source": [
    "new_N"
   ]
  },
  {
   "cell_type": "code",
   "execution_count": 14,
   "id": "2e0bc3b3",
   "metadata": {},
   "outputs": [
    {
     "data": {
      "text/plain": [
       "array([[-1, -1, -1],\n",
       "       [ 1,  1,  1],\n",
       "       [ 1,  1,  1]])"
      ]
     },
     "execution_count": 14,
     "metadata": {},
     "output_type": "execute_result"
    }
   ],
   "source": [
    "#new_state\n",
    "list_ = [-1]*new_n + [1]*new_N\n",
    "new_state = np.array(list_).reshape(lx,ly)\n",
    "new_state"
   ]
  },
  {
   "cell_type": "markdown",
   "id": "ab0c64f8",
   "metadata": {},
   "source": [
    "after an iteration is finished, increase N by padding zeros"
   ]
  },
  {
   "cell_type": "code",
   "execution_count": 16,
   "id": "99c50f55",
   "metadata": {},
   "outputs": [],
   "source": [
    "new_shape = (4,4)\n",
    "shape_diff = np.array(new_shape) - np.array(new_state.shape)"
   ]
  },
  {
   "cell_type": "code",
   "execution_count": 18,
   "id": "aa372c2b",
   "metadata": {},
   "outputs": [
    {
     "data": {
      "text/plain": [
       "array([[-1, -1, -1,  0],\n",
       "       [ 1,  1,  1,  0],\n",
       "       [ 1,  1,  1,  0],\n",
       "       [ 0,  0,  0,  0]])"
      ]
     },
     "execution_count": 18,
     "metadata": {},
     "output_type": "execute_result"
    }
   ],
   "source": [
    "#this becomes new state after next iteration\n",
    "np.lib.pad(new_state, ((0,shape_diff[0]),(0,shape_diff[1])), \n",
    "                              'constant', constant_values=(0))"
   ]
  },
  {
   "cell_type": "code",
   "execution_count": 19,
   "id": "675de828",
   "metadata": {},
   "outputs": [],
   "source": [
    "#then we calculate N, n, and probabilities again given this matrix - but note how to handle the zeros."
   ]
  },
  {
   "cell_type": "markdown",
   "id": "375e27af",
   "metadata": {},
   "source": [
    "#### end"
   ]
  },
  {
   "cell_type": "code",
   "execution_count": 4,
   "id": "62ef3c87",
   "metadata": {},
   "outputs": [],
   "source": [
    "new_state = []\n",
    "lx, ly = state.shape\n",
    "for i_pair, s in np.ndenumerate(state):\n",
    "    #get the 4 neighbors for each s using periodic boundary conditions\n",
    "    nb1 = state[(i_pair[0], (i_pair[1]+1)%ly)]\n",
    "    nb2 = state[(i_pair[0], (i_pair[1]-1)%ly)]\n",
    "    nb3 = state[((i_pair[0]+1)%lx, i_pair[1])]\n",
    "    nb4 = state[((i_pair[0]-1)%lx, i_pair[1])]\n",
    "    #apply condition based on neighbors: using mode\n",
    "    mode_of_neighbors = st.mode([nb1, nb2, nb3, nb4, s])\n",
    "    new_state.append(mode_of_neighbors)"
   ]
  },
  {
   "cell_type": "code",
   "execution_count": 5,
   "id": "1bf9fcc9",
   "metadata": {},
   "outputs": [],
   "source": [
    "new_state = np.array(new_state).reshape(lx, ly)"
   ]
  },
  {
   "cell_type": "code",
   "execution_count": 6,
   "id": "807cfa50",
   "metadata": {},
   "outputs": [
    {
     "data": {
      "text/plain": [
       "array([[0, 0, 0],\n",
       "       [0, 0, 0],\n",
       "       [0, 0, 0]])"
      ]
     },
     "execution_count": 6,
     "metadata": {},
     "output_type": "execute_result"
    }
   ],
   "source": [
    "new_state"
   ]
  },
  {
   "cell_type": "code",
   "execution_count": null,
   "id": "31b899f0",
   "metadata": {},
   "outputs": [],
   "source": []
  }
 ],
 "metadata": {
  "kernelspec": {
   "display_name": "Python 3",
   "language": "python",
   "name": "python3"
  },
  "language_info": {
   "codemirror_mode": {
    "name": "ipython",
    "version": 3
   },
   "file_extension": ".py",
   "mimetype": "text/x-python",
   "name": "python",
   "nbconvert_exporter": "python",
   "pygments_lexer": "ipython3",
   "version": "3.8.8"
  }
 },
 "nbformat": 4,
 "nbformat_minor": 5
}
