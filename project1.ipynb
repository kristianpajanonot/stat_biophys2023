{
 "cells": [
  {
   "cell_type": "code",
   "execution_count": 1,
   "id": "3598b1c7",
   "metadata": {},
   "outputs": [],
   "source": [
    "import numpy as np\n",
    "import matplotlib.pyplot as plt\n",
    "import statistics as st"
   ]
  },
  {
   "cell_type": "markdown",
   "id": "dd2fba1e",
   "metadata": {},
   "source": [
    "Generate state: 1 if cell is alive, -1 if cell is dead, 0 if cell is unoccupied"
   ]
  },
  {
   "cell_type": "code",
   "execution_count": 2,
   "id": "e70813c0",
   "metadata": {},
   "outputs": [],
   "source": [
    "def state_generator(L):\n",
    "    #generate matrix with size LxL based on probabilities\n",
    "    return np.random.choice([-1, 0, 1], (L,L), p = [0.2, 0.6, 0.2])"
   ]
  },
  {
   "cell_type": "code",
   "execution_count": 3,
   "id": "26297bc2",
   "metadata": {},
   "outputs": [
    {
     "data": {
      "text/plain": [
       "array([[0, 0, 0],\n",
       "       [0, 1, 0],\n",
       "       [0, 0, 0]])"
      ]
     },
     "execution_count": 3,
     "metadata": {},
     "output_type": "execute_result"
    }
   ],
   "source": [
    "state = state_generator(3)\n",
    "state"
   ]
  },
  {
   "cell_type": "code",
   "execution_count": 4,
   "id": "62ef3c87",
   "metadata": {},
   "outputs": [],
   "source": [
    "new_state = []\n",
    "lx, ly = state.shape\n",
    "for i_pair, s in np.ndenumerate(state):\n",
    "    #get the 4 neighbors for each s using periodic boundary conditions\n",
    "    nb1 = state[(i_pair[0], (i_pair[1]+1)%ly)]\n",
    "    nb2 = state[(i_pair[0], (i_pair[1]-1)%ly)]\n",
    "    nb3 = state[((i_pair[0]+1)%lx, i_pair[1])]\n",
    "    nb4 = state[((i_pair[0]-1)%lx, i_pair[1])]\n",
    "    #apply condition based on neighbors: using mode\n",
    "    mode_of_neighbors = st.mode([nb1, nb2, nb3, nb4, s])\n",
    "    new_state.append(mode_of_neighbors)"
   ]
  },
  {
   "cell_type": "code",
   "execution_count": 5,
   "id": "1bf9fcc9",
   "metadata": {},
   "outputs": [],
   "source": [
    "new_state = np.array(new_state).reshape(lx, ly)"
   ]
  },
  {
   "cell_type": "code",
   "execution_count": 6,
   "id": "807cfa50",
   "metadata": {},
   "outputs": [
    {
     "data": {
      "text/plain": [
       "array([[0, 0, 0],\n",
       "       [0, 0, 0],\n",
       "       [0, 0, 0]])"
      ]
     },
     "execution_count": 6,
     "metadata": {},
     "output_type": "execute_result"
    }
   ],
   "source": [
    "new_state"
   ]
  },
  {
   "cell_type": "code",
   "execution_count": null,
   "id": "40c5d2c0",
   "metadata": {},
   "outputs": [],
   "source": []
  }
 ],
 "metadata": {
  "kernelspec": {
   "display_name": "Python 3",
   "language": "python",
   "name": "python3"
  },
  "language_info": {
   "codemirror_mode": {
    "name": "ipython",
    "version": 3
   },
   "file_extension": ".py",
   "mimetype": "text/x-python",
   "name": "python",
   "nbconvert_exporter": "python",
   "pygments_lexer": "ipython3",
   "version": "3.8.8"
  }
 },
 "nbformat": 4,
 "nbformat_minor": 5
}
