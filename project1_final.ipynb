{
 "cells": [
  {
   "cell_type": "code",
   "execution_count": 1,
   "id": "3d9970f2-8cac-4c7d-8937-a5f4b97cfb36",
   "metadata": {
    "tags": []
   },
   "outputs": [],
   "source": [
    "import numpy as np\n",
    "import matplotlib.pyplot as plt\n",
    "import matplotlib.cm as cm\n",
    "import matplotlib.animation as animation\n",
    "import matplotlib as mpl\n",
    "from timeit import default_timer as timer"
   ]
  },
  {
   "cell_type": "code",
   "execution_count": 2,
   "id": "72244a84-4e22-46db-bae6-ff8f192e22d4",
   "metadata": {
    "tags": []
   },
   "outputs": [],
   "source": [
    "#Dimension of lattice\n",
    "lx = 20\n",
    "ly = 20\n",
    "\n",
    "#fraction of different variants and of unoccupied spots\n",
    "fa = 0.2\n",
    "fb = 0.3\n",
    "f0 = 1 - (fa + fb)\n",
    "\n",
    "if fa + fb > 1:\n",
    "    print('ERROR: Total fraction larger than 1')\n",
    "    exit()\n",
    "\n",
    "#go through each element in the lattice, to assign if element is Race A,B or vacant\n",
    "#Race B: 1, Race A: -1, Vacant spot: 0\n",
    "model = np.random.choice([-1, 0, 1], (lx,ly), p = [fa, f0, fb])"
   ]
  },
  {
   "cell_type": "code",
   "execution_count": 3,
   "id": "065ec8b6-6a0c-4aa7-991f-2d2585e721aa",
   "metadata": {
    "tags": []
   },
   "outputs": [
    {
     "data": {
      "text/plain": [
       "array([[ 1,  0,  0,  0, -1, -1, -1, -1,  1,  0,  0, -1,  0,  1,  1,  0,\n",
       "        -1,  0,  0,  0],\n",
       "       [ 1,  1,  1,  1, -1,  1,  1,  1,  1,  1,  0, -1,  1,  1, -1,  1,\n",
       "        -1,  1, -1,  1],\n",
       "       [ 1,  0,  1,  0,  0,  0,  1,  0,  1,  0, -1, -1,  0, -1, -1,  0,\n",
       "         1,  0,  1, -1],\n",
       "       [ 1, -1,  1,  0,  0,  0,  1,  1,  1,  0,  1,  0, -1,  0, -1,  0,\n",
       "         0,  0,  1, -1],\n",
       "       [ 0, -1,  1,  1,  1, -1, -1, -1,  0, -1,  0,  0,  0,  0,  1,  0,\n",
       "         0,  0,  1,  0],\n",
       "       [-1,  0,  0,  1,  0,  1,  1,  0,  0, -1,  1,  0,  0,  1,  0,  0,\n",
       "        -1, -1,  1,  0],\n",
       "       [ 0,  0,  0,  1,  1,  0,  0,  0,  0,  0,  1,  0, -1,  0,  0,  0,\n",
       "         0,  0,  1,  0],\n",
       "       [-1,  0,  0,  1,  1,  0,  1, -1,  1,  0,  0,  0, -1,  0,  0,  0,\n",
       "         0,  1,  0,  0],\n",
       "       [-1,  0,  1,  0,  0,  0,  0,  0,  0, -1,  0,  0,  0,  1,  1, -1,\n",
       "         1,  1,  0, -1],\n",
       "       [-1,  0, -1,  1,  0,  1,  1,  0, -1,  1,  0, -1, -1,  0,  1,  1,\n",
       "         1, -1,  0,  1],\n",
       "       [ 0,  0,  0,  0,  0,  0,  0,  0, -1, -1,  0,  1,  1,  1,  0,  1,\n",
       "        -1,  1, -1,  0],\n",
       "       [-1,  1,  0,  1, -1,  1,  0,  0,  0,  0,  1,  0,  0,  0,  0,  0,\n",
       "         1,  0,  1, -1],\n",
       "       [ 1,  0,  1,  0,  0,  0, -1,  0, -1,  1,  1, -1,  0,  1, -1,  1,\n",
       "         1,  1, -1, -1],\n",
       "       [ 0,  1,  0,  0,  0,  0,  0,  0,  0,  0,  0, -1,  0,  1,  1,  0,\n",
       "         1,  0,  0,  0],\n",
       "       [-1,  0,  0,  1,  1,  0, -1,  1,  1,  1,  0,  0,  0,  1,  0,  0,\n",
       "         1,  0,  1,  0],\n",
       "       [ 0,  1,  1,  1,  0,  0,  1,  1,  1,  0,  0,  0,  0, -1,  0,  0,\n",
       "         1,  0, -1,  1],\n",
       "       [ 0, -1, -1,  1,  1,  0,  0,  0, -1,  0, -1,  0,  1,  0,  0, -1,\n",
       "         1, -1,  1,  0],\n",
       "       [-1,  0,  0,  1,  1, -1,  1,  0,  0,  0, -1,  0, -1,  1,  0,  0,\n",
       "         0, -1,  1,  0],\n",
       "       [ 1,  1,  1,  0, -1,  1,  0,  1,  1,  0, -1,  0,  1,  1,  1,  0,\n",
       "        -1,  1,  0,  0],\n",
       "       [ 0,  0,  0,  0,  0,  0,  0, -1,  1,  1,  0,  0, -1,  0, -1, -1,\n",
       "         1,  0,  1, -1]])"
      ]
     },
     "execution_count": 3,
     "metadata": {},
     "output_type": "execute_result"
    }
   ],
   "source": [
    "model"
   ]
  },
  {
   "cell_type": "code",
   "execution_count": 4,
   "id": "a08226e4-e8a3-46fc-8dca-fab975a3b345",
   "metadata": {
    "tags": []
   },
   "outputs": [
    {
     "name": "stdout",
     "output_type": "stream",
     "text": [
      "One-race state reached\n",
      "vacant = 323\n",
      "A = 0\n",
      "B = 77\n",
      "\n",
      "counter: 19657\n"
     ]
    },
    {
     "data": {
      "text/plain": [
       "<Figure size 640x480 with 0 Axes>"
      ]
     },
     "metadata": {},
     "output_type": "display_data"
    }
   ],
   "source": [
    "start = timer()\n",
    "counter = 0\n",
    "fig = plt.figure()\n",
    "#norm = mpl.colors.Normalize(vmin=5, vmax=10)\n",
    "frames = [] # for storing the generated images\n",
    "nA_list = []\n",
    "nB_list = []\n",
    "\n",
    "while True:\n",
    "    counter += 1\n",
    "    \n",
    "    #creating the movie\n",
    "    # frame    = plt.imshow(model, cmap=cm.bwr,animated=True, vmin = -1, vmax = 1)\n",
    "    # frames.append([frame])\n",
    "    #frames.append([plt.imshow(model, cmap=cm.bwr,animated=True)])\n",
    "    #plt.imshow(model, animation = True)\n",
    "    #plt.show()\n",
    "\n",
    "    test = model.flatten().tolist()\n",
    "    #check if one mutation has been fixated, so now we either no longer have variant A or B in population\n",
    "    if 1 not in test or -1 not in test:\n",
    "        n_vacant = lx*ly - np.count_nonzero(model)     #count vacant states\n",
    "        nb = test.count(1)            #count states with variant B\n",
    "        na = test.count(-1)           #count states with variant A\n",
    "        \n",
    "    \n",
    "        print('One-race state reached')\n",
    "        print('vacant = ' + str(n_vacant))\n",
    "        print('A = ' + str(na))\n",
    "        print('B = ' + str(nb))\n",
    "        print()\n",
    "        break\n",
    "        \n",
    "    #count number of A and B elements\n",
    "    nA = (model.flatten()==-1).sum()\n",
    "    nB = (model.flatten()==1).sum()\n",
    "    \n",
    "    nB_list.append(nB)\n",
    "    nA_list.append(nA)\n",
    "    \n",
    "    #relative fitness of A\n",
    "    r = 1.05\n",
    "\n",
    "    #A's prob to reproduce (more advantage than B)\n",
    "    ra = r*nA/(r*nA + nB)\n",
    "    #B's prob. to reproduce\n",
    "    rb = nB/(r*nA + nB)\n",
    "\n",
    "    #A's prob to die\n",
    "    da = nA/(nA + nB)\n",
    "    #B's prob. to die\n",
    "    db = nB/(nA + nB)\n",
    "\n",
    "    if da > 1 or da < 0 or db > 1 or db < 0:\n",
    "        print('ERROR: Death prob not physical')\n",
    "        exit()\n",
    "    if ra > 1 or ra < 0 or rb > 1 or rb < 0:\n",
    "        print('ERROR: Survival prob not physical')\n",
    "        exit()\n",
    "    \n",
    "\n",
    "    #uniform distribution to use as comparison of conditions\n",
    "    prob_matrix = np.random.random((lx,ly))\n",
    "\n",
    "    #find indices all vacant spots\n",
    "    zeros = np.argwhere(model == 0)\n",
    "    \n",
    "\n",
    "    #choose 1 element from the state to die\n",
    "    i = np.random.randint(0,lx) \n",
    "    j = np.random.randint(0,ly) \n",
    "    \n",
    "    if model[i,j] == 1: #if occupied by B, and if condition is met, eliminate B\n",
    "\n",
    "        if prob_matrix[i,j] <= db:\n",
    "            model[i,j] = 0\n",
    "            \n",
    "    elif model[i,j] == -1: #if occupied by A, and if condition is met, eliminate A\n",
    "\n",
    "        if prob_matrix[i,j] <= da:\n",
    "            model[i,j] = 0\n",
    "            \n",
    "    else:\n",
    "        pass\n",
    "\n",
    "    #choose 1 element from the state to reproduce and if it reproduces, choose closest vacant spot to put new element\n",
    "    i = np.random.randint(0,lx) \n",
    "    j = np.random.randint(0,ly) \n",
    "    #find distances of all zeros from reference point \n",
    "    #gives for each zero the distance to the choosen element to reproduce\n",
    "    dist = np.sum((zeros-[i,j])**2, axis=1) #dist will throw an empty array if there are no more zeros (no more vacant spots)\n",
    "\n",
    "    if dist.size > 0:\n",
    "\n",
    "        #select point with minimum distance\n",
    "        index = np.argmin(dist)\n",
    "        #apply condition\n",
    "        \n",
    "        if model[i,j] == 1: #if occupied by B, and if condition is met, reproduce B and place in closest vacant spot\n",
    "            if prob_matrix[i,j] <= rb:\n",
    "                model[zeros[index][0], zeros[index][1]] = 1\n",
    "        elif model[i,j] == -1: #if occupied by A, and if condition is met, reproduce A and place in closest vacant spot\n",
    "            if prob_matrix[i,j] <= ra:\n",
    "                model[zeros[index][0], zeros[index][1]] = 1\n",
    "        else:\n",
    "            pass\n",
    "    \n",
    "    \n",
    "print('counter:', counter)\n",
    "\n",
    "# ani = animation.ArtistAnimation(fig, frames,interval=200, blit=True,\n",
    "#                                 repeat_delay=1000)\n",
    "\n",
    "# ani.save(\"test_01.mp4\")\n",
    "# plt.show()\n",
    "\n",
    "end = timer()"
   ]
  },
  {
   "cell_type": "code",
   "execution_count": 5,
   "id": "de8e8cde-9a07-4cac-8edb-057f23dd39ba",
   "metadata": {
    "tags": []
   },
   "outputs": [
    {
     "name": "stdout",
     "output_type": "stream",
     "text": [
      "1.4315053597092628\n"
     ]
    }
   ],
   "source": [
    "#time elapsed in seconds\n",
    "print(end-start)"
   ]
  },
  {
   "cell_type": "code",
   "execution_count": 6,
   "id": "a8c3f3ba-b219-461e-a5c4-e2b8fd7cd944",
   "metadata": {
    "tags": []
   },
   "outputs": [
    {
     "data": {
      "image/png": "[encoded data removed]",
      "text/plain": [
       "<Figure size 640x480 with 1 Axes>"
      ]
     },
     "metadata": {},
     "output_type": "display_data"
    }
   ],
   "source": [
    "#final plot: shows fixation because we only have type B left\n",
    "plt.imshow(model, cmap=cm.bwr, vmin = -1, vmax = 1)\n",
    "plt.show()"
   ]
  },
  {
   "cell_type": "code",
   "execution_count": 7,
   "id": "2482c080-e394-4a35-a41b-75dcbd0e2f02",
   "metadata": {
    "tags": []
   },
   "outputs": [
    {
     "data": {
      "image/png": "[encoded data removed]",
      "text/plain": [
       "<Figure size 640x480 with 1 Axes>"
      ]
     },
     "metadata": {},
     "output_type": "display_data"
    }
   ],
   "source": [
    "plt.plot(np.arange(1, counter), nB_list, label=\"type B\")\n",
    "plt.plot(np.arange(1, counter), nA_list, label=\"type A\")\n",
    "plt.legend()\n",
    "plt.show()"
   ]
  },
  {
   "cell_type": "code",
   "execution_count": null,
   "id": "1a843b0a-54a4-4ecd-b171-f203907bdb31",
   "metadata": {},
   "outputs": [],
   "source": []
  }
 ],
 "metadata": {
  "kernelspec": {
   "display_name": "Python 3 (ipykernel)",
   "language": "python",
   "name": "python3"
  },
  "language_info": {
   "codemirror_mode": {
    "name": "ipython",
    "version": 3
   },
   "file_extension": ".py",
   "mimetype": "text/x-python",
   "name": "python",
   "nbconvert_exporter": "python",
   "pygments_lexer": "ipython3",
   "version": "3.10.10"
  }
 },
 "nbformat": 4,
 "nbformat_minor": 5
}
