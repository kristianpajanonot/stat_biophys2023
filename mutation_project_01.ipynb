{
 "cells": [
  {
   "cell_type": "code",
   "execution_count": 6,
   "id": "742c0c66",
   "metadata": {},
   "outputs": [],
   "source": [
    "import numpy as np\n",
    "import matplotlib.pyplot as plt"
   ]
  },
  {
   "cell_type": "markdown",
   "id": "448d6a4b",
   "metadata": {},
   "source": [
    "Race A: -1, Race B: 1, Vacant spot = 0"
   ]
  },
  {
   "cell_type": "markdown",
   "id": "c0b22798",
   "metadata": {},
   "source": [
    "Step 1: Initialization of lattice"
   ]
  },
  {
   "cell_type": "code",
   "execution_count": 7,
   "id": "e14466ed",
   "metadata": {},
   "outputs": [],
   "source": [
    "#Dimension of lattice\n",
    "lx = 5\n",
    "ly = 5\n",
    "\n",
    "#Fraction of each races\n",
    "fa = 0.11\n",
    "fb = 0.53\n",
    "f0 = fa + fb\n",
    "\n",
    "if fa + fb > 1:\n",
    "    print('ERROR: Total fraction larger than 1')\n",
    "    exit()\n",
    "\n",
    "#initialize lattice: randomly assign fractions of population - assign numbers from 0 to 1\n",
    "model = np.random.random((lx,ly))\n",
    "\n",
    "#go through each element in the lattice, to assign if element is Race A,B or vacant\n",
    "#Race b: 1, Race A: -1, Vacant spot: 0\n",
    "for i in range(0,lx):\n",
    "    for j in range(0,ly):\n",
    "        #race A\n",
    "        if model[i,j] <= fa:\n",
    "            model[i,j] = -1\n",
    "        #race B\n",
    "        elif model[i,j] > f0:\n",
    "            model[i,j] = 0\n",
    "        #vacant\n",
    "        else:\n",
    "            model[i,j] = 1"
   ]
  },
  {
   "cell_type": "code",
   "execution_count": 8,
   "id": "30cd6616",
   "metadata": {},
   "outputs": [
    {
     "data": {
      "text/plain": [
       "array([[ 1.,  1.,  1.,  0.,  0.],\n",
       "       [ 0.,  0., -1.,  1.,  1.],\n",
       "       [ 1.,  1., -1.,  1.,  0.],\n",
       "       [ 1.,  1., -1., -1.,  1.],\n",
       "       [ 1.,  0., -1.,  1.,  0.]])"
      ]
     },
     "execution_count": 8,
     "metadata": {},
     "output_type": "execute_result"
    }
   ],
   "source": [
    "model"
   ]
  },
  {
   "cell_type": "markdown",
   "id": "910b4289",
   "metadata": {},
   "source": [
    "Step 2: after initialization, go through 1 iteration using the condition: \\\n",
    "Choose 1 element to reproduce (following probabilities discussed in class), and if it reproduces, choose closest vacant spot to put new element \\\n",
    "Choose 1 element to die (following probabilities discussed in class), convert element to vacant spot"
   ]
  },
  {
   "cell_type": "code",
   "execution_count": 9,
   "id": "8722fce5",
   "metadata": {},
   "outputs": [
    {
     "name": "stdout",
     "output_type": "stream",
     "text": [
      "0\n",
      "vacant = 7\n",
      "1\n",
      "vacant = 7\n"
     ]
    },
    {
     "data": {
      "text/plain": [
       "<Figure size 432x288 with 0 Axes>"
      ]
     },
     "metadata": {},
     "output_type": "display_data"
    },
    {
     "data": {
      "image/png": "[encoded data removed]",
      "text/plain": [
       "<Figure size 432x288 with 1 Axes>"
      ]
     },
     "metadata": {
      "needs_background": "light"
     },
     "output_type": "display_data"
    },
    {
     "name": "stdout",
     "output_type": "stream",
     "text": [
      "2\n",
      "vacant = 7\n",
      "3\n",
      "vacant = 6\n",
      "4\n",
      "vacant = 7\n",
      "5\n",
      "vacant = 7\n",
      "6\n",
      "vacant = 7\n",
      "7\n",
      "vacant = 8\n"
     ]
    },
    {
     "data": {
      "text/plain": [
       "<Figure size 432x288 with 0 Axes>"
      ]
     },
     "metadata": {},
     "output_type": "display_data"
    },
    {
     "data": {
      "text/plain": [
       "<Figure size 432x288 with 0 Axes>"
      ]
     },
     "metadata": {},
     "output_type": "display_data"
    },
    {
     "data": {
      "text/plain": [
       "<Figure size 432x288 with 0 Axes>"
      ]
     },
     "metadata": {},
     "output_type": "display_data"
    },
    {
     "data": {
      "text/plain": [
       "<Figure size 432x288 with 0 Axes>"
      ]
     },
     "metadata": {},
     "output_type": "display_data"
    },
    {
     "data": {
      "text/plain": [
       "<Figure size 432x288 with 0 Axes>"
      ]
     },
     "metadata": {},
     "output_type": "display_data"
    },
    {
     "data": {
      "image/png": "[encoded data removed]",
      "text/plain": [
       "<Figure size 432x288 with 1 Axes>"
      ]
     },
     "metadata": {
      "needs_background": "light"
     },
     "output_type": "display_data"
    },
    {
     "name": "stdout",
     "output_type": "stream",
     "text": [
      "8\n",
      "vacant = 8\n",
      "9\n",
      "vacant = 7\n",
      "10\n",
      "vacant = 7\n"
     ]
    },
    {
     "data": {
      "text/plain": [
       "<Figure size 432x288 with 0 Axes>"
      ]
     },
     "metadata": {},
     "output_type": "display_data"
    },
    {
     "data": {
      "text/plain": [
       "<Figure size 432x288 with 0 Axes>"
      ]
     },
     "metadata": {},
     "output_type": "display_data"
    },
    {
     "data": {
      "image/png": "[encoded data removed]",
      "text/plain": [
       "<Figure size 432x288 with 1 Axes>"
      ]
     },
     "metadata": {
      "needs_background": "light"
     },
     "output_type": "display_data"
    },
    {
     "name": "stdout",
     "output_type": "stream",
     "text": [
      "11\n",
      "vacant = 7\n",
      "12\n",
      "vacant = 7\n",
      "13\n",
      "vacant = 8\n",
      "14\n",
      "vacant = 7\n",
      "15\n",
      "vacant = 6\n",
      "16\n",
      "vacant = 5\n",
      "17\n",
      "vacant = 4\n",
      "18\n",
      "vacant = 3\n",
      "19\n",
      "vacant = 2\n"
     ]
    },
    {
     "data": {
      "text/plain": [
       "<Figure size 432x288 with 0 Axes>"
      ]
     },
     "metadata": {},
     "output_type": "display_data"
    },
    {
     "data": {
      "text/plain": [
       "<Figure size 432x288 with 0 Axes>"
      ]
     },
     "metadata": {},
     "output_type": "display_data"
    },
    {
     "data": {
      "text/plain": [
       "<Figure size 432x288 with 0 Axes>"
      ]
     },
     "metadata": {},
     "output_type": "display_data"
    },
    {
     "data": {
      "text/plain": [
       "<Figure size 432x288 with 0 Axes>"
      ]
     },
     "metadata": {},
     "output_type": "display_data"
    },
    {
     "data": {
      "text/plain": [
       "<Figure size 432x288 with 0 Axes>"
      ]
     },
     "metadata": {},
     "output_type": "display_data"
    },
    {
     "data": {
      "text/plain": [
       "<Figure size 432x288 with 0 Axes>"
      ]
     },
     "metadata": {},
     "output_type": "display_data"
    },
    {
     "data": {
      "text/plain": [
       "<Figure size 432x288 with 0 Axes>"
      ]
     },
     "metadata": {},
     "output_type": "display_data"
    },
    {
     "data": {
      "text/plain": [
       "<Figure size 432x288 with 0 Axes>"
      ]
     },
     "metadata": {},
     "output_type": "display_data"
    },
    {
     "data": {
      "text/plain": [
       "<Figure size 432x288 with 0 Axes>"
      ]
     },
     "metadata": {},
     "output_type": "display_data"
    }
   ],
   "source": [
    "#Number of iteration\n",
    "T = 20\n",
    "\n",
    "for k in range(0,T):\n",
    "        \n",
    "    if k%1 == 0:\n",
    "        plt.figure()\n",
    "        print(str(k))\n",
    "        n_vacant = lx*ly - np.count_nonzero(model)         \n",
    "        print('vacant = ' + str(n_vacant))\n",
    "        \n",
    "    test = model.flatten().tolist()\n",
    "    if 1 not in test or -1 not in test:\n",
    "        n_vacant = lx*ly - np.count_nonzero(model)         \n",
    "        nb = test.count(1)\n",
    "        na = test.count(-1)\n",
    "        print('One-race state reached')\n",
    "        print('vacant = ' + str(n_vacant))\n",
    "        print('A = ' + str(na))\n",
    "        print('B = ' + str(nb))\n",
    "        print()\n",
    "        break\n",
    "        \n",
    "    #count number of A and B elements\n",
    "    nA = (model.flatten()==-1).sum()\n",
    "    nB = (model.flatten()==1).sum()\n",
    "    #relative fitness of A\n",
    "    r = 1.05\n",
    "\n",
    "    #A's prob to reproduce (more advantage than B)\n",
    "    ra = r*nA/(r*nA + nB)\n",
    "    #B's prob. to reproduce\n",
    "    rb = nB/(r*nA + nB)\n",
    "\n",
    "    #A's prob to die\n",
    "    da = nA/(nA + nB)\n",
    "    #B's prob. to die\n",
    "    db = nB/(nA + nB)\n",
    "\n",
    "    if da > 1 or da < 0 or db > 1 or db < 0:\n",
    "        print('ERROR: Death prob not physical')\n",
    "        exit()\n",
    "    if ra > 1 or ra < 0 or rb > 1 or rb < 0:\n",
    "        print('ERROR: Survival prob not physical')\n",
    "        exit()\n",
    "            \n",
    "    #uniform distribution to use as comparison of conditions\n",
    "    prob_matrix = np.random.random((lx,ly))\n",
    "\n",
    "    #find all vacant spots\n",
    "    zeros = np.argwhere(model == 0)\n",
    "\n",
    "    #choose 1 element from the state to reproduce and if it reproduces, choose closest vacant spot to put new element\n",
    "    i = np.random.randint(0,lx) \n",
    "    j = np.random.randint(0,ly) \n",
    "    #find distances of all zeros from reference point\n",
    "    dist = np.sum((zeros-[i,j])**2, axis=1) #dist will throw an error if there are no more zeros (no more vacant spots)\n",
    "    #so use try-except block\n",
    "    \n",
    "    try:\n",
    "        #select point with minimum distance\n",
    "        index = np.argmin(dist)\n",
    "        #apply condition\n",
    "        if model[i,j] == 0: #if vacant spot, leave as is\n",
    "            continue\n",
    "        elif model[i,j] == 1: #if occupied by B, and if condition is met, reproduce B and place in closest vacant spot\n",
    "            if prob_matrix[i,j] <= rb:\n",
    "                model[zeros[index][0], zeros[index][1]] = 1\n",
    "                continue\n",
    "        elif model[i,j] == -1: #if occupied by A, and if condition is met, reproduce A and place in closest vacant spot\n",
    "            if prob_matrix[i,j] <= ra:\n",
    "                model[zeros[index][0], zeros[index][1]] = 1\n",
    "                continue\n",
    "\n",
    "        #choose 1 element from the state to die\n",
    "        i = np.random.randint(0,lx) \n",
    "        j = np.random.randint(0,ly) \n",
    "        if model[i,j] == 0: #if vacant spot, leave as is\n",
    "            continue\n",
    "        elif model[i,j] == 1: #if occupied by B, and if condition is met, eliminate B\n",
    "            if prob_matrix[i,j] <= db:\n",
    "                model[i,j] = 0\n",
    "                continue\n",
    "        elif model[i,j] == -1: #if occupied by A, and if condition is met, eliminate A\n",
    "            if prob_matrix[i,j] <= da:\n",
    "                model[i,j] = 0\n",
    "                continue\n",
    "                \n",
    "        plt.imshow(model)\n",
    "        plt.show()\n",
    "    except:\n",
    "        print('finished')\n",
    "        pass"
   ]
  },
  {
   "cell_type": "code",
   "execution_count": 10,
   "id": "dd04fcbe",
   "metadata": {},
   "outputs": [
    {
     "data": {
      "image/png": "[encoded data removed]",
      "text/plain": [
       "<Figure size 432x288 with 1 Axes>"
      ]
     },
     "metadata": {
      "needs_background": "light"
     },
     "output_type": "display_data"
    }
   ],
   "source": [
    "plt.imshow(model)\n",
    "plt.show()"
   ]
  },
  {
   "cell_type": "code",
   "execution_count": null,
   "id": "ee5229fa",
   "metadata": {},
   "outputs": [],
   "source": []
  }
 ],
 "metadata": {
  "kernelspec": {
   "display_name": "Python 3",
   "language": "python",
   "name": "python3"
  },
  "language_info": {
   "codemirror_mode": {
    "name": "ipython",
    "version": 3
   },
   "file_extension": ".py",
   "mimetype": "text/x-python",
   "name": "python",
   "nbconvert_exporter": "python",
   "pygments_lexer": "ipython3",
   "version": "3.8.8"
  }
 },
 "nbformat": 4,
 "nbformat_minor": 5
}
