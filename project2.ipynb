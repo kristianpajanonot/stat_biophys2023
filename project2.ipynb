{
 "cells": [
  {
   "cell_type": "code",
   "execution_count": 1,
   "id": "01ea4e0b-919f-4d9d-ab54-b9dc445d21b0",
   "metadata": {
    "tags": []
   },
   "outputs": [],
   "source": [
    "import numpy as np\n",
    "import math as math\n",
    "import matplotlib.pyplot as plt"
   ]
  },
  {
   "cell_type": "code",
   "execution_count": 2,
   "id": "be5e45d7",
   "metadata": {},
   "outputs": [
    {
     "data": {
      "text/plain": [
       "array([['0', '1', 'blue'],\n",
       "       ['0', '2', 'red'],\n",
       "       ['0', '3', 'blue'],\n",
       "       ['0', '4', 'red'],\n",
       "       ['0', '5', 'blue']], dtype='<U11')"
      ]
     },
     "execution_count": 2,
     "metadata": {},
     "output_type": "execute_result"
    }
   ],
   "source": [
    "#original sequence\n",
    "a = np.array([[0,1,\"blue\"],[0,2,\"red\"],[0,3,\"blue\"],[0,4,\"red\"],[0,5,\"blue\"]])\n",
    "a"
   ]
  },
  {
   "cell_type": "markdown",
   "id": "3e3153c0",
   "metadata": {},
   "source": [
    "i decided to work not with blue or red but with int so that the datatype will not be string"
   ]
  },
  {
   "cell_type": "code",
   "execution_count": 3,
   "id": "4a2b6173-c9b5-4c84-9aa4-31dae2345cf6",
   "metadata": {
    "tags": []
   },
   "outputs": [],
   "source": [
    "#converting sequence: blue to 1, red to 0\n",
    "#arrangement of elements in each list: (x_coord, y_coord, label: H = 1, P = 0)\n",
    "#starting sequence: HPPHPH\n",
    "a = np.array([[0,1,1],[0,2,0],[0,3,0],[0,4,1],[0,5,0], [0,6,1]])"
   ]
  },
  {
   "cell_type": "code",
   "execution_count": 4,
   "id": "c618bcb8",
   "metadata": {},
   "outputs": [
    {
     "data": {
      "text/plain": [
       "array([[0, 1, 1],\n",
       "       [0, 2, 0],\n",
       "       [0, 3, 0],\n",
       "       [0, 4, 1],\n",
       "       [0, 5, 0],\n",
       "       [0, 6, 1]])"
      ]
     },
     "execution_count": 4,
     "metadata": {},
     "output_type": "execute_result"
    }
   ],
   "source": [
    "a"
   ]
  },
  {
   "cell_type": "code",
   "execution_count": 5,
   "id": "d1fa8655-0353-46a1-af3a-c5a0d48a95fd",
   "metadata": {
    "tags": []
   },
   "outputs": [],
   "source": [
    "def rotate(ox,oy, px, py):\n",
    "    \"\"\"\n",
    "    Rotate a point counterclockwise by a given angle around a given origin.\n",
    "\n",
    "    The angle should be given in radians.\n",
    "    \"\"\"\n",
    "    j=1 if np.random.random() < 0.5 else -1\n",
    "    \n",
    "    qx = ox + math.cos(j*math.pi/2) * (px - ox) - math.sin(j*math.pi/2) * (py - oy)\n",
    "    qy = oy + math.sin(j*math.pi/2) * (px - ox) + math.cos(j*math.pi/2) * (py - oy)\n",
    "    return (qx, qy)"
   ]
  },
  {
   "cell_type": "code",
   "execution_count": 27,
   "id": "b8a12c42-47dd-4baf-8f68-37526b50ef9d",
   "metadata": {
    "tags": []
   },
   "outputs": [],
   "source": [
    "def random_rot(polymer):\n",
    "    random_number = np.random.randint(1,int(polymer.shape[0])-2)\n",
    "    \n",
    "#     print(random_number)\n",
    "    new_polymer = polymer.copy()\n",
    "    \n",
    "    qx,qy = rotate(polymer[random_number,0].astype(float), polymer[random_number,1].astype(float),polymer[random_number +1:,0].astype(float),polymer[random_number +1:,1].astype(float))\n",
    "    \n",
    "    new_polymer[random_number + 1:, 0] = qx \n",
    "    new_polymer[random_number + 1:, 1] = qy\n",
    "    \n",
    "#     print(new_polymer)\n",
    "    #for i in range(new_polymer.shape[0]-1):\n",
    "    #    if (new_polymer[i,:2] in new_polymer[:i,:2]) and (new_polymer[i,:2] in new_polymer[i+1:,:2]):\n",
    "    #        print(\"double detected\")\n",
    "    #        return polymer\n",
    "#     print(\"Returned new polymer\")\n",
    "    return new_polymer\n",
    "    \n",
    "    \n",
    "    \n",
    "    "
   ]
  },
  {
   "cell_type": "code",
   "execution_count": 7,
   "id": "f117249b-c35a-4ddc-84e0-e22516968aac",
   "metadata": {
    "tags": []
   },
   "outputs": [
    {
     "name": "stdout",
     "output_type": "stream",
     "text": [
      "2\n",
      "THIS IS a1 [[0 1 1]\n",
      " [0 2 0]\n",
      " [0 3 0]\n",
      " [1 3 1]\n",
      " [2 3 0]\n",
      " [3 3 1]]\n"
     ]
    }
   ],
   "source": [
    "#plt.scatter(*a[:,:2].astype(float).T, color = a[:,2])\n",
    "a1=random_rot(a)\n",
    "print(f\"THIS IS a1 {a1}\")\n",
    "# plt.scatter(*a1[:,:2].astype(float).T, color = a1[:,2])"
   ]
  },
  {
   "cell_type": "code",
   "execution_count": 8,
   "id": "fc5345ec-e4b3-431e-affa-e74d90fbb921",
   "metadata": {
    "scrolled": true,
    "tags": []
   },
   "outputs": [
    {
     "name": "stdout",
     "output_type": "stream",
     "text": [
      "3\n",
      "THIS IS a1 [[0 1 1]\n",
      " [0 2 0]\n",
      " [0 3 0]\n",
      " [1 3 1]\n",
      " [2 3 0]\n",
      " [3 3 1]]\n"
     ]
    }
   ],
   "source": [
    "a2=random_rot(a1)\n",
    "print(f\"THIS IS a1 {a1}\")\n",
    "# plt.scatter(*a2[:,:2].astype(float).T, color = a2[:,2])"
   ]
  },
  {
   "cell_type": "markdown",
   "id": "cfe88730",
   "metadata": {},
   "source": [
    "expected values after rotation should be an int because since when we do 90 degrees rotation, then it should fall on the grid of the axis which is an int"
   ]
  },
  {
   "cell_type": "code",
   "execution_count": 9,
   "id": "738199e4",
   "metadata": {},
   "outputs": [
    {
     "data": {
      "text/plain": [
       "array([[0, 1, 1],\n",
       "       [0, 2, 0],\n",
       "       [0, 3, 0],\n",
       "       [1, 3, 1],\n",
       "       [1, 2, 0],\n",
       "       [1, 1, 1]])"
      ]
     },
     "execution_count": 9,
     "metadata": {},
     "output_type": "execute_result"
    }
   ],
   "source": [
    "#compute energies of a2\n",
    "a2"
   ]
  },
  {
   "cell_type": "code",
   "execution_count": 10,
   "id": "e6390171-d314-41f2-9596-5f7c99e11da0",
   "metadata": {},
   "outputs": [
    {
     "name": "stdout",
     "output_type": "stream",
     "text": [
      "print 0 1 1\n",
      "print2 1 3 1\n",
      "dist 2.23606797749979\n",
      "print2 1 1 1\n",
      "dist 1.0\n",
      "print 1 3 1\n",
      "print2 1 1 1\n",
      "dist 2.0\n",
      "print 1 1 1\n"
     ]
    }
   ],
   "source": [
    "#initial energy is 0\n",
    "energy = 0\n",
    "\n",
    "#since we are only computing for the energies for H-H interactions, so only loop through that, i.e, label = 1:\n",
    "#get all distances between H-H, and if dist = 1, then they are \"in contact\",a nd energy decreases by -1\n",
    "#we only consider dist = 1, since we only consider nearest neighbors: up, down, left, right - no diagonals\n",
    "for index,(x1,y1,label) in enumerate(a2):\n",
    "    if label == 1:\n",
    "        print('print', x1, y1, label)\n",
    "        for (x2,y2,label) in a2[index+1:]:\n",
    "            if label == 1:\n",
    "                print('print2', x2,y2,label)\n",
    "                #get euclidean distance\n",
    "                dist = np.sqrt((x1 - x2)**2 + (y1 - y2)**2)\n",
    "                print('dist', dist)\n",
    "                if dist == 1.0:\n",
    "                    energy = energy - 1\n",
    "                "
   ]
  },
  {
   "cell_type": "code",
   "execution_count": 11,
   "id": "a8412e82",
   "metadata": {},
   "outputs": [
    {
     "data": {
      "text/plain": [
       "-1"
      ]
     },
     "execution_count": 11,
     "metadata": {},
     "output_type": "execute_result"
    }
   ],
   "source": [
    "energy"
   ]
  },
  {
   "cell_type": "markdown",
   "id": "4a6c945d",
   "metadata": {},
   "source": [
    "putting energy to function"
   ]
  },
  {
   "cell_type": "code",
   "execution_count": 12,
   "id": "82aae3b5",
   "metadata": {},
   "outputs": [],
   "source": [
    "def compute_energies(state):\n",
    "    energy = 0\n",
    "    for index,(x1,y1,label) in enumerate(state):\n",
    "        if label == 1:\n",
    "            for (x2,y2,label) in state[index+1:]:\n",
    "                if label == 1:\n",
    "                    #get euclidean distance\n",
    "                    dist = np.sqrt((x1 - x2)**2 + (y1 - y2)**2)\n",
    "                    if dist == 1.0:\n",
    "                        energy = energy - 1\n",
    "    return energy  "
   ]
  },
  {
   "cell_type": "code",
   "execution_count": 23,
   "id": "42e4e032",
   "metadata": {},
   "outputs": [],
   "source": [
    "def delta_energy(old_state, new_state):\n",
    "    #added the two energies since compute energies will give a value of negative numbers if there is a H-H interaction\n",
    "    energy_old_state = compute_energies(old_state)\n",
    "    energy_new_state = compute_energies(new_state)\n",
    "    return energy_old_state + energy_new_state"
   ]
  },
  {
   "cell_type": "code",
   "execution_count": 24,
   "id": "eaa449c2",
   "metadata": {},
   "outputs": [],
   "source": [
    "def metropolis_step(state):\n",
    "    #initialize new_configuration\n",
    "    new_configuration = np.array([[0,0,0],[0,0,0],[0,0,0],[0,0,0],[0,0,0], [0,0,0]])\n",
    "    \n",
    "    #get new_state: use random rotate function\n",
    "    new_state = random_rot(state)\n",
    "    #calculate energy:\n",
    "    delta_e = delta_energy(state, new_state)\n",
    "    print('delta_e', delta_e)\n",
    "    #condition: if delta_e <= 0, accept the new configuration, if not, accept the new configuration only with probability\n",
    "    #p = exp(-beta*delta_e)\n",
    "    if delta_e <= 0:\n",
    "        print('accept_new')\n",
    "        new_configuration = new_state\n",
    "    else:\n",
    "        prob = np.exp(-beta*delta_e)\n",
    "        print('prob', prob)\n",
    "        unif = np.random.rand()\n",
    "        print('unif', unif)\n",
    "        if unif < prob:  \n",
    "            print('accept_new')\n",
    "            new_configuration = new_state\n",
    "        else:\n",
    "            print('old_state')\n",
    "            new_configuration = state\n",
    "    return new_configuration"
   ]
  },
  {
   "cell_type": "code",
   "execution_count": 28,
   "id": "0877cc47",
   "metadata": {},
   "outputs": [],
   "source": [
    "#arrangement of elements in each list: (x_coord, y_coord, label: H = 1, P = 0)\n",
    "#6 mer sequence from example: HPPHPH\n",
    "state = np.array([[0,1,1],[0,2,0],[0,3,0],[0,4,1],[0,5,0], [0,6,1]])"
   ]
  },
  {
   "cell_type": "code",
   "execution_count": 29,
   "id": "2f64b840",
   "metadata": {},
   "outputs": [
    {
     "name": "stdout",
     "output_type": "stream",
     "text": [
      "orig state [[0 1 1]\n",
      " [0 2 0]\n",
      " [0 3 0]\n",
      " [0 4 1]\n",
      " [0 5 0]\n",
      " [0 6 1]]\n",
      "i\n",
      "delta_e 0\n",
      "accept_new\n",
      "energy_state 0\n",
      "i\n",
      "delta_e 0\n",
      "accept_new\n",
      "energy_state 0\n",
      "i\n",
      "delta_e 0\n",
      "accept_new\n",
      "energy_state 0\n",
      "i\n",
      "delta_e -2\n",
      "accept_new\n",
      "energy_state -2\n",
      "After 3 metropolis steps, the desired new_configuration having minimum energy is obtained\n",
      "final_state [[0 1 1]\n",
      " [0 2 0]\n",
      " [0 1 0]\n",
      " [1 1 1]\n",
      " [1 0 0]\n",
      " [1 0 1]]\n"
     ]
    }
   ],
   "source": [
    "n_realizations = 10\n",
    "beta = 10\n",
    "print('orig state', state)\n",
    "for i in range(n_realizations):   \n",
    "    print('i')\n",
    "    state = metropolis_step(state)\n",
    "    energy_state = compute_energies(state)\n",
    "    print('energy_state', energy_state)\n",
    "    if  energy_state == -2:\n",
    "        print('After', i ,'metropolis steps, the desired new_configuration having minimum energy is obtained')\n",
    "        final_state = state\n",
    "        break\n",
    "\n",
    "print('final_state', final_state)"
   ]
  }
 ],
 "metadata": {
  "kernelspec": {
   "display_name": "Python 3",
   "language": "python",
   "name": "python3"
  },
  "language_info": {
   "codemirror_mode": {
    "name": "ipython",
    "version": 3
   },
   "file_extension": ".py",
   "mimetype": "text/x-python",
   "name": "python",
   "nbconvert_exporter": "python",
   "pygments_lexer": "ipython3",
   "version": "3.8.8"
  }
 },
 "nbformat": 4,
 "nbformat_minor": 5
}
