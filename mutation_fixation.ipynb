{
 "cells": [
  {
   "cell_type": "code",
   "execution_count": 1,
   "id": "376cac39-484d-476c-9dbd-b8b54d5bd8e8",
   "metadata": {
    "tags": []
   },
   "outputs": [],
   "source": [
    "import numpy as np\n",
    "import matplotlib.pyplot as plt\n",
    "import matplotlib.cm as cm\n",
    "import matplotlib.animation as animation\n",
    "import matplotlib as mpl\n",
    "from timeit import default_timer as timer"
   ]
  },
  {
   "cell_type": "code",
   "execution_count": 2,
   "id": "414aa9bf-c3e9-435d-a2cc-17801e94c64d",
   "metadata": {
    "tags": []
   },
   "outputs": [],
   "source": [
    "def generate_model(lx,ly,fa,fb):\n",
    "    \"\"\"\n",
    "    generates the inital state of the model on the lattice:\n",
    "    lx,ly: is the size of the lattice in x and y direction\n",
    "    fa,fb: are the propabilities that variant a or variant b occupies a spot\n",
    "    \"\"\"\n",
    "    #define propability that spot is not occupied\n",
    "    f0 = 1 - (fa + fb)  \n",
    "\n",
    "    if fa + fb > 1:\n",
    "        print('ERROR: Total fraction larger than 1')\n",
    "        exit()\n",
    "        \n",
    "    #go through each element in the lattice, to assign if element is of Variant A,B or vacant\n",
    "    #Variant B: 1, Variant A: -1, Vacant spot: 0\n",
    "    model = np.random.choice([-1, 0, 1], (lx,ly), p = [fa, f0, fb])\n",
    "    \n",
    "    return model"
   ]
  },
  {
   "cell_type": "code",
   "execution_count": 3,
   "id": "c223b56d-798b-49fe-bd8d-64520db3d209",
   "metadata": {
    "tags": []
   },
   "outputs": [],
   "source": [
    "def generate_model_oneofA(lx,ly,fb):\n",
    "    \"\"\"\n",
    "    generates the inital state of the model on the lattice:\n",
    "    lx,ly: is the size of the lattice in x and y direction\n",
    "    fa,fb: are the propabilities that variant a or variant b occupies a spot\n",
    "    \"\"\"\n",
    "    #define propability that spot is not occupied\n",
    "    f0 = 1 - fb  \n",
    "\n",
    "    if fb > 1:\n",
    "        print('ERROR: Total fraction larger than 1')\n",
    "        exit()\n",
    "        \n",
    "    #assign variant B and unoccupied spots to the positions on the lattice with the given propabilities\n",
    "    #Variant B: 1, Vacant spot: 0\n",
    "    model = np.random.choice([0, 1], (lx,ly), p = [f0, fb])\n",
    "    \n",
    "    #pick random position and change it to variant A: -1 => one individual of type A just emerged\n",
    "    i = np.random.randint(0,lx) \n",
    "    j = np.random.randint(0,ly) \n",
    "    model[i][j] = -1\n",
    "    \n",
    "    return model"
   ]
  },
  {
   "cell_type": "code",
   "execution_count": 4,
   "id": "a2decce5-8662-4967-ba7a-fedf97fe03ae",
   "metadata": {},
   "outputs": [],
   "source": [
    "def iterate_fixation(r,lx,ly,model):\n",
    "    \"\"\"\n",
    "    iterates initial state until one of the variants is fixated using the moran algorithm:\n",
    "    r = relative fitness of varaiant A\n",
    "    lx,ly = dimensions of lattice in x and y direction\n",
    "    model = inital state of the system\n",
    "    \"\"\"\n",
    "    start = timer()\n",
    "    counter = 0\n",
    "    fig = plt.figure()\n",
    "    nA_list = []\n",
    "    nB_list = []\n",
    "\n",
    "    while True:\n",
    "        counter += 1\n",
    "\n",
    "        test = model.flatten().tolist()\n",
    "        #check if one mutation has been fixated, so now we either no longer have variant A or B in population\n",
    "        if 1 not in test or -1 not in test:\n",
    "            n_vacant = lx*ly - np.count_nonzero(model)     #count vacant states\n",
    "            nb = test.count(1)            #count states with variant B\n",
    "            na = test.count(-1)           #count states with variant A\n",
    "\n",
    "\n",
    "            print('One-race state reached')\n",
    "            print('vacant = ' + str(n_vacant))\n",
    "            print('A = ' + str(na))\n",
    "            print('B = ' + str(nb))\n",
    "            print('number of total iterations =' + str(counter))\n",
    "            print()\n",
    "            break\n",
    "\n",
    "        #count number of A and B elements\n",
    "        nA = (model.flatten()==-1).sum()\n",
    "        nB = (model.flatten()==1).sum()\n",
    "\n",
    "        nB_list.append(nB)\n",
    "        nA_list.append(nA)\n",
    "\n",
    "        #Using Moran model\n",
    "        \n",
    "        #A's prob to reproduce (more advantage than B)\n",
    "        ra = r*nA/(r*nA + nB)\n",
    "        #B's prob. to reproduce\n",
    "        rb = nB/(r*nA + nB)\n",
    "\n",
    "        #A's prob to die\n",
    "        da = nA/(nA + nB)\n",
    "        #B's prob. to die\n",
    "        db = nB/(nA + nB)\n",
    "\n",
    "        if da > 1 or da < 0 or db > 1 or db < 0:\n",
    "            print('ERROR: Death prob not physical')\n",
    "            exit()\n",
    "        if ra > 1 or ra < 0 or rb > 1 or rb < 0:\n",
    "            print('ERROR: Survival prob not physical')\n",
    "            exit()\n",
    "\n",
    "\n",
    "        #uniform distribution to use as comparison of conditions\n",
    "        prob_matrix = np.random.random((lx,ly))\n",
    "\n",
    "        #find indices all vacant spots\n",
    "        zeros = np.argwhere(model == 0)\n",
    "\n",
    "\n",
    "        #choose 1 element from the state to die\n",
    "        i = np.random.randint(0,lx) \n",
    "        j = np.random.randint(0,ly) \n",
    "\n",
    "        if model[i,j] == 1: #if occupied by B, and if condition is met, eliminate B\n",
    "\n",
    "            if prob_matrix[i,j] <= db:\n",
    "                model[i,j] = 0\n",
    "\n",
    "        elif model[i,j] == -1: #if occupied by A, and if condition is met, eliminate A\n",
    "\n",
    "            if prob_matrix[i,j] <= da:\n",
    "                model[i,j] = 0\n",
    "\n",
    "        else:\n",
    "            pass\n",
    "\n",
    "        #choose 1 element from the state to reproduce and if it reproduces, choose closest vacant spot to put new element\n",
    "        i = np.random.randint(0,lx) \n",
    "        j = np.random.randint(0,ly) \n",
    "        #find distances of all zeros from reference point \n",
    "        #gives for each zero the distance to the choosen element to reproduce\n",
    "        dist = np.sum((zeros-[i,j])**2, axis=1) #dist will throw an empty array if there are no more zeros (no more vacant spots)\n",
    "\n",
    "        if dist.size > 0:\n",
    "\n",
    "            #select point with minimum distance\n",
    "            index = np.argmin(dist)\n",
    "            #apply condition\n",
    "\n",
    "            if model[i,j] == 1: #if occupied by B, and if condition is met, reproduce B and place in closest vacant spot\n",
    "                if prob_matrix[i,j] <= rb:\n",
    "                    model[zeros[index][0], zeros[index][1]] = 1\n",
    "            elif model[i,j] == -1: #if occupied by A, and if condition is met, reproduce A and place in closest vacant spot\n",
    "                if prob_matrix[i,j] <= ra:\n",
    "                    model[zeros[index][0], zeros[index][1]] = -1\n",
    "            else:\n",
    "                pass\n",
    "\n",
    "    end = timer()\n",
    "    \n",
    "    return (nA_list, nB_list, counter)\n",
    "    "
   ]
  },
  {
   "cell_type": "code",
   "execution_count": 5,
   "id": "d4ba45b5-9f3c-4d98-831b-5a5513697869",
   "metadata": {
    "tags": []
   },
   "outputs": [],
   "source": [
    "def plot_func(nA_list, nB_list, counter,r, fb, path):\n",
    "    \"\"\"\n",
    "    Function that plots the developments of individuals of variant A and B against the number of iterations:\n",
    "    counter = total number of iterations\n",
    "    nA_list = population of individuals of type A in different iterations\n",
    "    nB_list = population of individuals of type B in different iterations\n",
    "    \"\"\"\n",
    "    plt.figure(figsize=(7,5))\n",
    "    plt.plot(np.arange(1, counter), nB_list, label=\"type B\", color='red')\n",
    "    plt.plot(np.arange(1, counter), nA_list, label=\"type A\", color='blue')\n",
    "    plt.axhline(0, color='black', ls='dashed')\n",
    "    plt.xlabel('number of iterations')\n",
    "    plt.ylabel('population')\n",
    "    plt.title(f' r = {r}, fb = {fb}')\n",
    "    plt.legend()\n",
    "    plt.savefig(path, dpi = 150)\n",
    "    plt.show()\n",
    "\n"
   ]
  },
  {
   "cell_type": "code",
   "execution_count": 7,
   "id": "00f1e269-cd3f-457e-9b20-7e0934ee899e",
   "metadata": {},
   "outputs": [],
   "source": [
    "#Dimension of lattice\n",
    "lx = 20\n",
    "ly = 20\n",
    "\n",
    "#fraction of different variants and of unoccupied spots\n",
    "fa = 0.3\n",
    "fb = 0.3\n",
    "\n",
    "#relative fitness of varaint A\n",
    "r = 1.05"
   ]
  },
  {
   "cell_type": "code",
   "execution_count": 8,
   "id": "a46626fe-5816-437f-8de3-008f34785617",
   "metadata": {
    "tags": []
   },
   "outputs": [
    {
     "data": {
      "image/png": "[encoded data removed]",
      "text/plain": [
       "<Figure size 504x360 with 1 Axes>"
      ]
     },
     "metadata": {
      "needs_background": "light"
     },
     "output_type": "display_data"
    }
   ],
   "source": [
    "#print initial state\n",
    "model = generate_model(lx,ly,fa,fb)\n",
    "plt.figure(figsize=(7,5))\n",
    "plt.imshow(model, cmap=cm.bwr, vmin = -1, vmax = 1)\n",
    "path = 'init_16_1.05.png'\n",
    "plt.savefig(path, dpi = 150)\n",
    "#blue is shown as type A and red is shown as type B\n",
    "plt.show()\n"
   ]
  },
  {
   "cell_type": "code",
   "execution_count": 9,
   "id": "57104fae-6b67-496b-abad-a24c913819ff",
   "metadata": {
    "tags": []
   },
   "outputs": [
    {
     "name": "stdout",
     "output_type": "stream",
     "text": [
      "One-race state reached\n",
      "vacant = 388\n",
      "A = 12\n",
      "B = 0\n",
      "number of total iterations =151808\n",
      "\n"
     ]
    },
    {
     "data": {
      "text/plain": [
       "<Figure size 432x288 with 0 Axes>"
      ]
     },
     "metadata": {},
     "output_type": "display_data"
    }
   ],
   "source": [
    "nA_list, nB_list, counter = iterate_fixation(r,lx,ly,model)"
   ]
  },
  {
   "cell_type": "code",
   "execution_count": 10,
   "id": "1a48a9c3-1110-4258-902b-cea0d4395865",
   "metadata": {
    "tags": []
   },
   "outputs": [
    {
     "data": {
      "image/png": "[encoded data removed]",
      "text/plain": [
       "<Figure size 504x360 with 1 Axes>"
      ]
     },
     "metadata": {
      "needs_background": "light"
     },
     "output_type": "display_data"
    }
   ],
   "source": [
    "path = 'final_16_1.05.png'\n",
    "plot_func(nA_list, nB_list, counter,r,fb, path)"
   ]
  },
  {
   "cell_type": "code",
   "execution_count": 11,
   "id": "43c4dfe6",
   "metadata": {},
   "outputs": [
    {
     "data": {
      "image/png": "[encoded data removed]",
      "text/plain": [
       "<Figure size 504x360 with 1 Axes>"
      ]
     },
     "metadata": {
      "needs_background": "light"
     },
     "output_type": "display_data"
    }
   ],
   "source": [
    "plt.figure(figsize=(7,5))\n",
    "plt.imshow(model, cmap=cm.bwr, vmin = -1, vmax = 1)\n",
    "path = 'final_image_16_1.05.png'\n",
    "plt.savefig(path, dpi = 150)\n",
    "#blue is shown as type A and red is shown as type B\n",
    "plt.show()"
   ]
  },
  {
   "cell_type": "markdown",
   "id": "ef00ab9f-abeb-433e-b0e8-b6616a6aabc5",
   "metadata": {
    "tags": []
   },
   "source": [
    "# Initial condition: Emergence of one individual of type A"
   ]
  },
  {
   "cell_type": "code",
   "execution_count": 128,
   "id": "d678b361-0829-4d3c-99b4-7c87b50ca3a2",
   "metadata": {
    "tags": []
   },
   "outputs": [],
   "source": [
    "#Dimension of lattice\n",
    "lx = 20\n",
    "ly = 20\n",
    "\n",
    "#fraction of different variants and of unoccupied spots\n",
    "fb = 0.5\n",
    "\n",
    "#relative fitness of varaint A\n",
    "r = 1.05"
   ]
  },
  {
   "cell_type": "code",
   "execution_count": 129,
   "id": "0dd1aab9-f4a6-4580-94a2-f1e1e78f8513",
   "metadata": {
    "tags": []
   },
   "outputs": [
    {
     "data": {
      "image/png": "[encoded data removed]",
      "text/plain": [
       "<Figure size 504x360 with 1 Axes>"
      ]
     },
     "metadata": {
      "needs_background": "light"
     },
     "output_type": "display_data"
    }
   ],
   "source": [
    "#print initial state\n",
    "model_oneofA = generate_model_oneofA(lx,ly,fb)\n",
    "plt.figure(figsize=(7,5))\n",
    "plt.imshow(model_oneofA, cmap=cm.bwr, vmin = -1, vmax = 1)\n",
    "path = 'init_15_1.05.png'\n",
    "plt.savefig(path, dpi = 150)\n",
    "#blue is shown as type A and red is shown as type B\n",
    "#plt.savefig(\"One_of_variant_A/r_5_fb_0.5/initial_004.pdf\",dpi = 150)\n",
    "plt.show()"
   ]
  },
  {
   "cell_type": "code",
   "execution_count": 130,
   "id": "69954d4c",
   "metadata": {},
   "outputs": [
    {
     "name": "stdout",
     "output_type": "stream",
     "text": [
      "One-race state reached\n",
      "vacant = 388\n",
      "A = 0\n",
      "B = 12\n",
      "number of total iterations =102532\n",
      "\n"
     ]
    },
    {
     "data": {
      "text/plain": [
       "<Figure size 432x288 with 0 Axes>"
      ]
     },
     "metadata": {},
     "output_type": "display_data"
    }
   ],
   "source": [
    "nA_list, nB_list, counter = iterate_fixation(r,lx,ly,model_oneofA)"
   ]
  },
  {
   "cell_type": "code",
   "execution_count": 131,
   "id": "64fdcbae-1608-4f07-82c2-abf978fdf105",
   "metadata": {
    "tags": []
   },
   "outputs": [
    {
     "data": {
      "image/png": "[encoded data removed]",
      "text/plain": [
       "<Figure size 504x360 with 1 Axes>"
      ]
     },
     "metadata": {
      "needs_background": "light"
     },
     "output_type": "display_data"
    }
   ],
   "source": [
    "path = 'final_15_1.05.png'\n",
    "plot_func(nA_list, nB_list, counter,r,fb, path)"
   ]
  },
  {
   "cell_type": "code",
   "execution_count": 132,
   "id": "60bae3ae",
   "metadata": {},
   "outputs": [
    {
     "data": {
      "image/png": "[encoded data removed]",
      "text/plain": [
       "<Figure size 504x360 with 1 Axes>"
      ]
     },
     "metadata": {
      "needs_background": "light"
     },
     "output_type": "display_data"
    }
   ],
   "source": [
    "plt.figure(figsize=(7,5))\n",
    "plt.imshow(model_oneofA, cmap=cm.bwr, vmin = -1, vmax = 1)\n",
    "path = 'final_image_15_1.05.png'\n",
    "plt.savefig(path, dpi = 150)\n",
    "#blue is shown as type A and red is shown as type B\n",
    "plt.show()"
   ]
  },
  {
   "cell_type": "code",
   "execution_count": 165,
   "id": "49dd18c8-2f70-4ab9-9253-6acc9d2eeb3f",
   "metadata": {
    "tags": []
   },
   "outputs": [
    {
     "data": {
      "image/png": "[encoded data removed]",
      "text/plain": [
       "<Figure size 640x480 with 1 Axes>"
      ]
     },
     "metadata": {},
     "output_type": "display_data"
    }
   ],
   "source": [
    "plt.imshow(model_oneofA, cmap=cm.bwr, vmin = -1, vmax = 1)\n",
    "#blue is shown as type A and red is shown as type B\n",
    "#plt.savefig(\"One_of_variant_A/r_5_fb_0.5/final_004.pdf\",dpi = 150)\n",
    "plt.show()"
   ]
  },
  {
   "cell_type": "code",
   "execution_count": null,
   "id": "2039fd54-bb3c-4c94-8d0c-22a980f34272",
   "metadata": {},
   "outputs": [],
   "source": []
  }
 ],
 "metadata": {
  "kernelspec": {
   "display_name": "Python 3",
   "language": "python",
   "name": "python3"
  },
  "language_info": {
   "codemirror_mode": {
    "name": "ipython",
    "version": 3
   },
   "file_extension": ".py",
   "mimetype": "text/x-python",
   "name": "python",
   "nbconvert_exporter": "python",
   "pygments_lexer": "ipython3",
   "version": "3.8.8"
  }
 },
 "nbformat": 4,
 "nbformat_minor": 5
}
